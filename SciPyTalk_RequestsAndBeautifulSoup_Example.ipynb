{
 "cells": [
  {
   "cell_type": "markdown",
   "metadata": {},
   "source": [
    "# Using Requests\n",
    "### Getting that HTML "
   ]
  },
  {
   "cell_type": "markdown",
   "metadata": {},
   "source": [
    "Visit <a href=\"http://www.boxofficemojo.com/yearly/chart/?page=1&view=releasedate&view2=domestic&yr=%2015.htm\">Box Office Mojo</a>\n",
    "\n",
    "Check out that url: \n",
    "http://www.boxofficemojo.com/yearly/chart/?page=1&view=releasedate&view2=domestic&yr=%2016.htm"
   ]
  },
  {
   "cell_type": "code",
   "execution_count": null,
   "metadata": {
    "collapsed": true
   },
   "outputs": [],
   "source": [
    "import requests \n",
    "import time "
   ]
  },
  {
   "cell_type": "code",
   "execution_count": 4,
   "metadata": {
    "collapsed": false
   },
   "outputs": [],
   "source": [
    "pages = xrange(1,9)\n",
    "page_text = {}\n",
    "\n",
    "for page in pages: \n",
    "    r = requests.get(\"http://www.boxofficemojo.com/yearly/chart/?page=%s&view=releasedate&view2=domestic&yr=2016&p=.htm\"%(page))\n",
    "    page_text[page] = r.text\n",
    "    time.sleep(1) # <- Sleeping is important! "
   ]
  },
  {
   "cell_type": "code",
   "execution_count": 8,
   "metadata": {
    "collapsed": false
   },
   "outputs": [
    {
     "name": "stdout",
     "output_type": "stream",
     "text": [
      "<!DOCTYPE html PUBLIC \"-//W3C//DTD HTML 4.01 Transitional//EN\" \"http://www.w3.org/TR/html4/loose.dtd\">\n",
      "<html lang=\"en\">\n",
      "<HEAD>\n",
      "<TITLE>2016 Yearly Box Office Results - Box Office Mojo</TITLE>\n",
      "<META NAME=\"keywords\" CONTENT=\"2016, year, yearly, box, office, result, list, movie, movies, listing, listings, top movies, all time, film\">\n",
      "<META NAME=\"description\" CONTENT=\"Yearly box office results for 2016.\">\n",
      "<link rel=\"stylesheet\" href=\"/css/mojo.css?1\" type=\"text/css\" media=\"screen\" title=\"no title\" charset=\"utf-8\">\n",
      "<link rel=\"stylesheet\" href=\"/css/mojo.css?1\" type=\"text/css\" media=\"print\" title=\"no title\" charset=\"utf-8\"></head>\n",
      "<body>\n",
      "\t<iframe id=\"sis_pixel_sitewide\" width=\"1\" height=\"1\" frameborder=\"0\" marginwidth=\"0\" marginheight=\"0\" style=\"display: none;\"></iframe>\n",
      "<script>\n",
      "    setTimeout(function(){\n",
      "        try{\n",
      "            //sis3.0 pixel\n",
      "            var cacheBust = Math.random() * 10000000000000000,\n",
      "                url_sis3 = 'http://s.amazon-adsystem.com/iu3?',\n",
      "                params_sis3 = [\n",
      "                    \"d=boxofficemojo.com\",\n",
      "                    \"cb=\" + cacheBust\n",
      "                ];\n",
      "\n",
      "            (document.getElementById('sis_pixel_sitewide')).src = url_sis3 + params_sis3.join('&');\n",
      "        }catch(e){\n",
      "            if (window.ueLogError) { \n",
      "                window.ueLogError(e);\n",
      "            }\n",
      "        }\n",
      "    }, 5);\n",
      "</script>\n",
      "\n",
      "<div id=\"container\">\n",
      "<div>\n",
      "<script type=\"text/javascript\">\n",
      "    var googletag = googletag || {};\n",
      "    googletag.cmd = googletag.cmd || [];\n",
      "\n",
      "    (function() {\n",
      "        var gads = document.createElement(\"script\");\n",
      "        gads.async = true;\n",
      "        gads.type = \"text/javascript\";\n",
      "\n",
      "        var useSSL = \"https:\" == document.location.protocol;\n",
      "        gads.src = (useSSL ? \"https:\" : \"http:\") + \"//www.googletagservices.com/tag/js/gpt.js\";\n",
      "\n",
      "        var node = document.getElementsByTagName(\"script\")[0];\n",
      "        node.parentNode.insertBefore(gads, node);\n",
      "    })();\n",
      "</script>\n",
      "\n",
      "<script type=\"text/javascript\">\n",
      "  var _gaq = _gaq || [];\n",
      "  _gaq.push(['_setAccount', 'UA-2831726-1']);\n",
      "  _gaq.push(['_trackPageview']);\n",
      "\n",
      "  (function() {\n",
      "    var ga = document.createElement('script'); ga.type = 'text/javascript'; ga.async = true;\n",
      "    ga.src = ('https:' == document.location.protocol ? 'https://ssl' : 'http://www') + '.google-analytics.com/ga.js';\n",
      "    (document.getElementsByTagName('head')[0] || document.getElementsByTagName('body')[0]).appendChild(ga);\n",
      "  })();\n",
      "\n",
      "</script>\n",
      "\n",
      "\t<div id=\"hp_banner\">\n",
      "\t<div id=\"top_links\">\n",
      "\t\t<div style=\"float: left\"><a href=\"/daily/chart/\">Daily Box Office (Mon.)</a> | <a href=\"/weekend/chart/\">Weekend Box Office (Jul. 8&ndash;10)</a> | <a href=\"/movies/?id=illumination2015.htm\">#1 Movie: 'The Secret Life of Pets'</a> | <a href=\"http://www.imdb.com/showtimes/?ref_=mojo\">Showtimes</a></div>\n",
      "\t\t<div style=\"float: right\">Updated 7/12/2016 4:01 P.M. Pacific Time</div>\n",
      "\t\t<div style=\"clear:both; height: 0px\"></div>\n",
      "\t</div>\n",
      "</div>\n",
      "\t\t\n",
      "<div id=\"header\">\n",
      "\t<div id=\"leaderboard\"><script type=\"text/javascript\">\n",
      "    googletag.cmd.push(function() {\n",
      "        googletag.defineSlot(\"/4215/imdb2.bom.other\", [[728, 90]], \"ad-slot-1\").addService(googletag.pubads().setTargeting(\"p\", \"t\"));\n",
      "        googletag.pubads().enableSingleRequest();\n",
      "        googletag.enableServices();\n",
      "    });\n",
      "    googletag.cmd.push(function() { googletag.display(\"ad-slot-1\"); });\n",
      "</script></div>\t<div id=\"hp_logo\"><a href=\"/\"><img src=\"/img/misc/bom_logo1.png\" width=\"245\" height=\"56\" alt=\"Box Office Mojo\"></a></div>\n",
      "\t<div style=\"clear:both; height: 0px\"></div>\n",
      "</div>\n",
      "\n",
      "\n",
      "</div>\n",
      "\n",
      "\n",
      "<div id=\"main\">\n",
      "<!-- COLUMN 1 of 4 -->\n",
      "\t<div id=\"leftnav\">\n",
      "<!-- google_ad_section_start(weight=ignore) -->\n",
      "<!-- <table id=\"navleft\" cellspacing=\"0\" cellpadding=\"2\" border=\"0\"> -->\n",
      "<ul id=\"leftnav\">\n",
      "<li class=\"nl_section\">Search Site</li>\n",
      "<li class=\"nl_link\" style=\"padding-left:0px\">\n",
      "\t<form name=\"searchbox\" method=\"POST\" action=\"/search/q.php\">\n",
      "\t<input name=\"q\"  type=\"text\" style=\"font-size: 9 pt; font-weight: bold; width: 90px;\"><br>\n",
      "\t<input type=\"submit\" value=\"Search...\" ></form> \n",
      "</li>\n",
      "<li class='nl_section'>Social</li>\n",
      "<li class=\"nl_link\"><a href=\"http://facebook.com/boxofficemojo\" style=\"vertical-align:middle;\"><img src=\"/images/FaceBook_16x16.png\" border=\"0\" alt=\"Facebook Logo\">Facebook</a></li>\n",
      "<li class=\"nl_link\"><a href=\"http://twitter.com/boxofficemojo\" style=\"vertical-align:middle;\"><img src=\"/images/Twitter_16x16.png\" border=\"0\" alt=\"Twitter Logo\">Twitter</a></li>\n",
      "\n",
      "<li class='nl_section'>Features</li>\n",
      "<li class='nl_link'><a href=\"/news/\">News</a></li>\n",
      "<li class='nl_link'><a href=\"/schedule/\">Release Sched.</a></li>\n",
      "<li class='nl_link'><a href=\"http://www.imdb.com/showtimes?ref_=mojo\">Showtimes<br/><span style=\"margin-left:7px;color: #999999; font-size: 9px;\">at <img src=\"/images/mojo_imdb_sm.png\"/></span></a></li>\n",
      "<li class='nl_section'>Box Office</li>\n",
      "<li class='nl_link'><a href=\"/daily/\">Daily</a></li>\n",
      "<li class='nl_link'><a href=\"/weekend/\">Weekend</a></li>\n",
      "<li class='nl_link'><a href=\"/weekly/\">Weekly</a></li>\n",
      "<li class='nl_link'><a href=\"/monthly/\">Monthly</a></li>\n",
      "<li class='nl_link'><a href=\"/quarterly/\">Quarterly</a></li>\n",
      "<li class='nl_link'><a href=\"/seasonal/\">Seasonal</a></li>\n",
      "<li class='nl_link_current'><a href=\"/yearly/\">Yearly</a></li>\n",
      "<li class='nl_link'><a href=\"/alltime/\">All Time</a></li>\n",
      "<li class='nl_link'><a href=\"/intl/\">International</a></li>\n",
      "<li class='nl_section'>Indices</li>\n",
      "<li class='nl_link'><a href=\"/studio/\">Studios</a></li>\n",
      "<li class='nl_link'><a href=\"/people/\">People</a></li>\n",
      "<li class='nl_link'><a href=\"/genres/\">Genres</a></li>\n",
      "<li class='nl_link'><a href=\"/franchises/\">Franchises</a></li>\n",
      "<li class='nl_link'><a href=\"/showdowns/\">Showdowns</a></li>\n",
      "<li class='nl_link'><a href=\"/counts/\">Theater Counts</a></li>\n",
      "</ul>\n",
      "</div>\n",
      "\t<div id=\"body\">\n",
      "\t<div id=\"addthis\"><table border=\"0\" cellspacing=\"0\" cellpadding=\"0\">\r\n",
      "<tr>\r\n",
      "<form method=\"POST\" action=\"/adjuster.php\" name=\"adjuster\">\r\n",
      "<input type=\"hidden\" name=\"returnURL\" value=\"/yearly/chart/?page=1&amp;view=releasedate&amp;view2=domestic&amp;yr=2016&amp;\n"
     ]
    }
   ],
   "source": [
    "print page_text[1]"
   ]
  },
  {
   "cell_type": "markdown",
   "metadata": {
    "collapsed": true
   },
   "source": [
    "# Using Beautiful Soup \n",
    "### Make the HTML queryable"
   ]
  },
  {
   "cell_type": "code",
   "execution_count": 1,
   "metadata": {
    "collapsed": true
   },
   "outputs": [],
   "source": [
    "from bs4 import BeautifulSoup "
   ]
  },
  {
   "cell_type": "markdown",
   "metadata": {},
   "source": [
    "We want the top 100 movie titles.  "
   ]
  },
  {
   "cell_type": "code",
   "execution_count": 14,
   "metadata": {
    "collapsed": false
   },
   "outputs": [
    {
     "name": "stdout",
     "output_type": "stream",
     "text": [
      "[<font face=\"Verdana\" size=\"2\"><a href=\"/about/adjuster.htm\"><b>Adjuster:</b></a></font>, <font size=\"2\"><a href=\"/yearly/chart/?view=releasedate&amp;view2=domestic&amp;yr=2016&amp;sort=gross&amp;order=ASC&amp;p=.htm\"><b>Rank</b></a></font>, <font size=\"2\"><a href=\"/yearly/chart/?view=releasedate&amp;view2=domestic&amp;yr=2016&amp;sort=title&amp;order=ASC&amp;p=.htm\">Movie Title (click to view)</a></font>, <font size=\"2\"><a href=\"/yearly/chart/?view=releasedate&amp;view2=domestic&amp;yr=2016&amp;sort=studio&amp;order=ASC&amp;p=.htm\">Studio</a><br><script language=\"javascript\">\r\n",
      "function MojoDrop1() {\r\n",
      "var number = document.MojoDropDown1.mojolinks1.selectedIndex;location.href = document.MojoDropDown1.mojolinks1.options[number].value;}</script>\n",
      "<table border=\"0\" cellpadding=\"0\" cellspacing=\"0\">\n",
      "<form name=\"MojoDropDown1\"><tr><td>\n",
      "<select name=\"mojolinks1\" onchange=\"MojoDrop1(this.form)\" style=\"font-family: Verdana; font-size: 8pt\">\n",
      "<option>Filter</option><option value=\"/yearly/chart/?view=releasedate&amp;view2=domestic&amp;yr=2016&amp;sort=gross&amp;order=DESC&amp;studio=25thframe.htm\">25th Frame</option>\n",
      "<option value=\"/yearly/chart/?view=releasedate&amp;view2=domestic&amp;yr=2016&amp;sort=gross&amp;order=DESC&amp;studio=fiveandtwo.htm\">5&amp;2</option>\n",
      "<option value=\"/yearly/chart/?view=releasedate&amp;view2=domestic&amp;yr=2016&amp;sort=gross&amp;order=DESC&amp;studio=a24.htm\">A24</option>\n",
      "<option value=\"/yearly/chart/?view=releasedate&amp;view2=domestic&amp;yr=2016&amp;sort=gross&amp;order=DESC&amp;studio=artaffects.htm\">AAE</option>\n",
      "<option value=\"/yearly/chart/?view=releasedate&amp;view2=domestic&amp;yr=2016&amp;sort=gross&amp;order=DESC&amp;studio=abramorama.htm\">Abr.</option>\n",
      "<option value=\"/yearly/chart/?view=releasedate&amp;view2=domestic&amp;yr=2016&amp;sort=gross&amp;order=DESC&amp;studio=atlas.htm\">ADC</option>\n",
      "<option value=\"/yearly/chart/?view=releasedate&amp;view2=domestic&amp;yr=2016&amp;sort=gross&amp;order=DESC&amp;studio=aef.htm\">AEF</option>\n",
      "<option value=\"/yearly/chart/?view=releasedate&amp;view2=domestic&amp;yr=2016&amp;sort=gross&amp;order=DESC&amp;studio=adoptfilms.htm\">AF</option>\n",
      "<option value=\"/yearly/chart/?view=releasedate&amp;view2=domestic&amp;yr=2016&amp;sort=gross&amp;order=DESC&amp;studio=airbud.htm\">Air Bud</option>\n",
      "<option value=\"/yearly/chart/?view=releasedate&amp;view2=domestic&amp;yr=2016&amp;sort=gross&amp;order=DESC&amp;studio=alchemy.htm\">Alc</option>\n",
      "<option value=\"/yearly/chart/?view=releasedate&amp;view2=domestic&amp;yr=2016&amp;sort=gross&amp;order=DESC&amp;studio=amplify.htm\">Ampl.</option>\n",
      "<option value=\"/yearly/chart/?view=releasedate&amp;view2=domestic&amp;yr=2016&amp;sort=gross&amp;order=DESC&amp;studio=anchorbayentertainment.htm\">Anch.</option>\n",
      "<option value=\"/yearly/chart/?view=releasedate&amp;view2=domestic&amp;yr=2016&amp;sort=gross&amp;order=DESC&amp;studio=argotpictures.htm\">Argo.</option>\n",
      "<option value=\"/yearly/chart/?view=releasedate&amp;view2=domestic&amp;yr=2016&amp;sort=gross&amp;order=DESC&amp;studio=artmattan.htm\">Artma</option>\n",
      "<option value=\"/yearly/chart/?view=releasedate&amp;view2=domestic&amp;yr=2016&amp;sort=gross&amp;order=DESC&amp;studio=bbcworldwide.htm\">BBC</option>\n",
      "<option value=\"/yearly/chart/?view=releasedate&amp;view2=domestic&amp;yr=2016&amp;sort=gross&amp;order=DESC&amp;studio=broadgreen.htm\">BG</option>\n",
      "<option value=\"/yearly/chart/?view=releasedate&amp;view2=domestic&amp;yr=2016&amp;sort=gross&amp;order=DESC&amp;studio=bluesky.htm\">BSC</option>\n",
      "<option value=\"/yearly/chart/?view=releasedate&amp;view2=domestic&amp;yr=2016&amp;sort=gross&amp;order=DESC&amp;studio=brainstormmedia.htm\">BSM</option>\n",
      "<option value=\"/yearly/chart/?view=releasedate&amp;view2=domestic&amp;yr=2016&amp;sort=gross&amp;order=DESC&amp;studio=bleeckerstreet.htm\">BST</option>\n",
      "<option value=\"/yearly/chart/?view=releasedate&amp;view2=domestic&amp;yr=2016&amp;sort=gross&amp;order=DESC&amp;studio=buenavista.htm\">BV</option>\n",
      "<option value=\"/yearly/chart/?view=releasedate&amp;view2=domestic&amp;yr=2016&amp;sort=gross&amp;order=DESC&amp;studio=bigworld.htm\">BWP</option>\n",
      "<option value=\"/yearly/chart/?view=releasedate&amp;view2=domestic&amp;yr=2016&amp;sort=gross&amp;order=DESC&amp;studio=cartuna.htm\">Cartuna</option>\n",
      "<option value=\"/yearly/chart/?view=releasedate&amp;view2=domestic&amp;yr=2016&amp;sort=gross&amp;order=DESC&amp;studio=cavu.htm\">CAVU</option>\n",
      "<option value=\"/yearly/chart/?view=releasedate&amp;view2=domestic&amp;yr=2016&amp;sort=gross&amp;order=DESC&amp;studio=cinestaan.htm\">Cinestaan</option>\n",
      "<option value=\"/yearly/chart/?view=releasedate&amp;view2=domestic&amp;yr=2016&amp;sort=gross&amp;order=DESC&amp;studio=cjentertainment.htm\">CJ</option>\n",
      "<option value=\"/yearly/chart/?view=releasedate&amp;view2=domestic&amp;yr=2016&amp;sort=gross&amp;order=DESC&amp;studio=chinalion.htm\">CL</option>\n",
      "<option value=\"/yearly/chart/?view=releasedate&amp;view2=domestic&amp;yr=2016&amp;sort=gross&amp;order=DESC&amp;studio=cohenmedia.htm\">Cohen</option>\n",
      "<option value=\"/yearly/chart/?view=releasedate&amp;view2=domestic&amp;yr=2016&amp;sort=gross&amp;order=DESC&amp;studio=corinthfilmsinc.htm\">Crnth</option>\n",
      "<option value=\"/yearly/chart/?view=releasedate&amp;view2=domestic&amp;yr=2016&amp;sort=gross&amp;order=DESC&amp;studio=distribfilms.htm\">Distrib.</option>\n",
      "<option value=\"/yearly/chart/?view=releasedate&amp;view2=domestic&amp;yr=2016&amp;sort=gross&amp;order=DESC&amp;studio=drafthousefilms.htm\">Drft.</option>\n",
      "<option value=\"/yearly/chart/?view=releasedate&amp;view2=domestic&amp;yr=2016&amp;sort=gross&amp;order=DESC&amp;studio=europacorp.htm\">EC</option>\n",
      "<option value=\"/yearly/chart/?view=releasedate&amp;view2=domestic&amp;yr=2016&amp;sort=gross&amp;order=DESC&amp;studio=electric.htm\">Electric</option>\n",
      "<option value=\"/yearly/chart/?view=releasedate&amp;view2=domestic&amp;yr=2016&amp;sort=gross&amp;order=DESC&amp;studio=entertainmentone.htm\">EOne</option>\n",
      "<option value=\"/yearly/chart/?view=releasedate&amp;view2=domestic&amp;yr=2016&amp;sort=gross&amp;order=DESC&amp;studio=epicpics.htm\">EpicPics</option>\n",
      "<option value=\"/yearly/chart/?view=releasedate&amp;view2=domestic&amp;yr=2016&amp;sort=gross&amp;order=DESC&amp;studio=eros.htm\">Eros</option>\n",
      "<option value=\"/yearly/chart/?view=releasedate&amp;view2=domestic&amp;yr=2016&amp;sort=gross&amp;order=DESC&amp;studio=esx.htm\">ESX</option>\n",
      "<option value=\"/yearly/chart/?view=releasedate&amp;view2=domestic&amp;yr=2016&amp;sort=gross&amp;order=DESC&amp;studio=filmbuff.htm\">FB</option>\n",
      "<option value=\"/yearly/chart/?view=releasedate&amp;view2=domestic&amp;yr=2016&amp;sort=gross&amp;order=DESC&amp;studio=focusworld.htm\">FCW</option>\n",
      "<option value=\"/yearly/chart/?view=releasedate&amp;view2=domestic&amp;yr=2016&amp;sort=gross&amp;order=DESC&amp;studio=fip.htm\">FIP</option>\n",
      "<option value=\"/yearly/chart/?view=releasedate&amp;view2=domestic&amp;yr=2016&amp;sort=gross&amp;order=DESC&amp;studio=filmmovement.htm\">FM</option>\n",
      "<option value=\"/yearly/chart/?view=releasedate&amp;view2=domestic&amp;yr=2016&amp;sort=gross&amp;order=DESC&amp;studio=focus.htm\">Focus</option>\n",
      "<option value=\"/yearly/chart/?view=releasedate&amp;view2=domestic&amp;yr=2016&amp;sort=gross&amp;order=DESC&amp;studio=forewarned.htm\">Forewarned</option>\n",
      "<option value=\"/yearly/chart/?view=releasedate&amp;view2=domestic&amp;yr=2016&amp;sort=gross&amp;order=DESC&amp;studio=fox.htm\">Fox</option>\n",
      "<option value=\"/yearly/chart/?view=releasedate&amp;view2=domestic&amp;yr=2016&amp;sort=gross&amp;order=DESC&amp;studio=foxsearchlight.htm\">FoxS</option>\n",
      "<option value=\"/yearly/chart/?view=releasedate&amp;view2=domestic&amp;yr=2016&amp;sort=gross&amp;order=DESC&amp;studio=filmrise.htm\">FR</option>\n",
      "<option value=\"/yearly/chart/?view=releasedate&amp;view2=domestic&amp;yr=2016&amp;sort=gross&amp;order=DESC&amp;studio=fs.htm\">Free</option>\n",
      "<option value=\"/yearly/chart/?view=releasedate&amp;view2=domestic&amp;yr=2016&amp;sort=gross&amp;order=DESC&amp;studio=firstrun.htm\">FRun</option>\n",
      "<option value=\"/yearly/chart/?view=releasedate&amp;view2=domestic&amp;yr=2016&amp;sort=gross&amp;order=DESC&amp;studio=funimation.htm\">FUN</option>\n",
      "<option value=\"/yearly/chart/?view=releasedate&amp;view2=domestic&amp;yr=2016&amp;sort=gross&amp;order=DESC&amp;studio=gaatri.htm\">Gaatri</option>\n",
      "<option value=\"/yearly/chart/?view=releasedate&amp;view2=domestic&amp;yr=2016&amp;sort=gross&amp;order=DESC&amp;studio=gathrfilms.htm\">Gathr</option>\n",
      "<option value=\"/yearly/chart/?view=releasedate&amp;view2=domestic&amp;yr=2016&amp;sort=gross&amp;order=DESC&amp;studio=gkids.htm\">GK</option>\n",
      "<option value=\"/yearly/chart/?view=releasedate&amp;view2=domestic&amp;yr=2016&amp;sort=gross&amp;order=DESC&amp;studio=samuelgoldwyn.htm\">Gold.</option>\n",
      "<option value=\"/yearly/chart/?view=releasedate&amp;view2=domestic&amp;yr=2016&amp;sort=gross&amp;order=DESC&amp;studio=grasshopper.htm\">Grasshopper</option>\n",
      "<option value=\"/yearly/chart/?view=releasedate&amp;view2=domestic&amp;yr=2016&amp;sort=gross&amp;order=DESC&amp;studio=gravitas.htm\">Grav.</option>\n",
      "<option value=\"/yearly/chart/?view=releasedate&amp;view2=domestic&amp;yr=2016&amp;sort=gross&amp;order=DESC&amp;studio=gvn.htm\">GVN</option>\n",
      "<option value=\"/yearly/chart/?view=releasedate&amp;view2=domestic&amp;yr=2016&amp;sort=gross&amp;order=DESC&amp;studio=hammond.htm\">Ham</option>\n",
      "<option value=\"/yearly/chart/?view=releasedate&amp;view2=domestic&amp;yr=2016&amp;sort=gross&amp;order=DESC&amp;studio=hannoverhouse.htm\">Hann.</option>\n",
      "<option value=\"/yearly/chart/?view=releasedate&amp;view2=domestic&amp;yr=2016&amp;sort=gross&amp;order=DESC&amp;studio=hightop.htm\">HTR</option>\n",
      "<option value=\"/yearly/chart/?view=releasedate&amp;view2=domestic&amp;yr=2016&amp;sort=gross&amp;order=DESC&amp;studio=icarus.htm\">Icar.</option>\n",
      "<option value=\"/yearly/chart/?view=releasedate&amp;view2=domestic&amp;yr=2016&amp;sort=gross&amp;order=DESC&amp;studio=intlfilmcircuit.htm\">ICir</option>\n",
      "<option value=\"/yearly/chart/?view=releasedate&amp;view2=domestic&amp;yr=2016&amp;sort=gross&amp;order=DESC&amp;studio=ifc.htm\">IFC</option>\n",
      "<option value=\"/yearly/chart/?view=releasedate&amp;view2=domestic&amp;yr=2016&amp;sort=gross&amp;order=DESC&amp;studio=imax.htm\">Imax</option>\n",
      "<option value=\"/yearly/chart/?view=releasedate&amp;view2=domestic&amp;yr=2016&amp;sort=gross&amp;order=DESC&amp;studio=independent.htm\">INDEP</option>\n",
      "<option value=\"/yearly/chart/?view=releasedate&amp;view2=domestic&amp;yr=2016&amp;sort=gross&amp;order=DESC&amp;studio=indican.htm\">Indic.</option>\n",
      "<option value=\"/yearly/chart/?view=releasedate&amp;view2=domestic&amp;yr=2016&amp;sort=gross&amp;order=DESC&amp;studio=invincible.htm\">Invincible</option>\n",
      "<option value=\"/yearly/chart/?view=releasedate&amp;view2=domestic&amp;yr=2016&amp;sort=gross&amp;order=DESC&amp;studio=jampa.htm\">Jampa</option>\n",
      "<option value=\"/yearly/chart/?view=releasedate&amp;view2=domestic&amp;yr=2016&amp;sort=gross&amp;order=DESC&amp;studio=janusfilms.htm\">Jan.</option>\n",
      "<option value=\"/yearly/chart/?view=releasedate&amp;view2=domestic&amp;yr=2016&amp;sort=gross&amp;order=DESC&amp;studio=jsenko.htm\">JSenko</option>\n",
      "<option value=\"/yearly/chart/?view=releasedate&amp;view2=domestic&amp;yr=2016&amp;sort=gross&amp;order=DESC&amp;studio=kinolorber.htm\">KL</option>\n",
      "<option value=\"/yearly/chart/?view=releasedate&amp;view2=domestic&amp;yr=2016&amp;sort=gross&amp;order=DESC&amp;studio=leisuretime.htm\">Leis.</option>\n",
      "<option value=\"/yearly/chart/?view=releasedate&amp;view2=domestic&amp;yr=2016&amp;sort=gross&amp;order=DESC&amp;studio=lionsgatesummit.htm\">LG/S</option>\n",
      "<option value=\"/yearly/chart/?view=releasedate&amp;view2=domestic&amp;yr=2016&amp;sort=gross&amp;order=DESC&amp;studio=lionsgate.htm\">LGF</option>\n",
      "<option value=\"/yearly/chart/?view=releasedate&amp;view2=domestic&amp;yr=2016&amp;sort=gross&amp;order=DESC&amp;studio=lionsgatepremiere.htm\">LGP</option>\n",
      "<option value=\"/yearly/chart/?view=releasedate&amp;view2=domestic&amp;yr=2016&amp;sort=gross&amp;order=DESC&amp;studio=cinemalibre.htm\">Libre</option>\n",
      "<option value=\"/yearly/chart/?view=releasedate&amp;view2=domestic&amp;yr=2016&amp;sort=gross&amp;order=DESC&amp;studio=linnprods.htm\">Linn</option>\n",
      "<option value=\"/yearly/chart/?view=releasedate&amp;view2=domestic&amp;yr=2016&amp;sort=gross&amp;order=DESC&amp;studio=magnolia.htm\">Magn.</option>\n",
      "<option value=\"/yearly/chart/?view=releasedate&amp;view2=domestic&amp;yr=2016&amp;sort=gross&amp;order=DESC&amp;studio=marvista.htm\">MarVista</option>\n",
      "<option value=\"/yearly/chart/?view=releasedate&amp;view2=domestic&amp;yr=2016&amp;sort=gross&amp;order=DESC&amp;studio=matson.htm\">Mats.</option>\n",
      "<option value=\"/yearly/chart/?view=releasedate&amp;view2=domestic&amp;yr=2016&amp;sort=gross&amp;order=DESC&amp;studio=musicboxfilms.htm\">MBox</option>\n",
      "<option value=\"/yearly/chart/?view=releasedate&amp;view2=domestic&amp;yr=2016&amp;sort=gross&amp;order=DESC&amp;studio=menemsha.htm\">Men.</option>\n",
      "<option value=\"/yearly/chart/?view=releasedate&amp;view2=domestic&amp;yr=2016&amp;sort=gross&amp;order=DESC&amp;studio=mirrorimages.htm\">Mirror</option>\n",
      "<option value=\"/yearly/chart/?view=releasedate&amp;view2=domestic&amp;yr=2016&amp;sort=gross&amp;order=DESC&amp;studio=mongrel.htm\">Mon</option>\n",
      "<option value=\"/yearly/chart/?view=releasedate&amp;view2=domestic&amp;yr=2016&amp;sort=gross&amp;order=DESC&amp;studio=montereymediainc.htm\">Mont.</option>\n",
      "<option value=\"/yearly/chart/?view=releasedate&amp;view2=domestic&amp;yr=2016&amp;sort=gross&amp;order=DESC&amp;studio=mainstreetprod.htm\">MS</option>\n",
      "<option value=\"/yearly/chart/?view=releasedate&amp;view2=domestic&amp;yr=2016&amp;sort=gross&amp;order=DESC&amp;studio=unknown.htm\">N/A</option>\n",
      "<option value=\"/yearly/chart/?view=releasedate&amp;view2=domestic&amp;yr=2016&amp;sort=gross&amp;order=DESC&amp;studio=netflix.htm\">NET</option>\n",
      "<option value=\"/yearly/chart/?view=releasedate&amp;view2=domestic&amp;yr=2016&amp;sort=gross&amp;order=DESC&amp;studio=orchard.htm\">Orch.</option>\n",
      "<option value=\"/yearly/chart/?view=releasedate&amp;view2=domestic&amp;yr=2016&amp;sort=gross&amp;order=DESC&amp;studio=openroads.htm\">ORF</option>\n",
      "<option value=\"/yearly/chart/?view=releasedate&amp;view2=domestic&amp;yr=2016&amp;sort=gross&amp;order=DESC&amp;studio=oscilloscopepictures.htm\">Osci.</option>\n",
      "<option value=\"/yearly/chart/?view=releasedate&amp;view2=domestic&amp;yr=2016&amp;sort=gross&amp;order=DESC&amp;studio=paladin.htm\">Pala.</option>\n",
      "<option value=\"/yearly/chart/?view=releasedate&amp;view2=domestic&amp;yr=2016&amp;sort=gross&amp;order=DESC&amp;studio=paramount.htm\">Par.</option>\n",
      "<option value=\"/yearly/chart/?view=releasedate&amp;view2=domestic&amp;yr=2016&amp;sort=gross&amp;order=DESC&amp;studio=pureflix.htm\">PFR</option>\n",
      "<option value=\"/yearly/chart/?view=releasedate&amp;view2=domestic&amp;yr=2016&amp;sort=gross&amp;order=DESC&amp;studio=panmedia.htm\">PM&amp;E</option>\n",
      "<option value=\"/yearly/chart/?view=releasedate&amp;view2=domestic&amp;yr=2016&amp;sort=gross&amp;order=DESC&amp;studio=pantelion.htm\">PNT</option>\n",
      "<option value=\"/yearly/chart/?view=releasedate&amp;view2=domestic&amp;yr=2016&amp;sort=gross&amp;order=DESC&amp;studio=purdie.htm\">Purd.</option>\n",
      "<option value=\"/yearly/chart/?view=releasedate&amp;view2=domestic&amp;yr=2016&amp;sort=gross&amp;order=DESC&amp;studio=qualityflix.htm\">QF</option>\n",
      "<option value=\"/yearly/chart/?view=releasedate&amp;view2=domestic&amp;yr=2016&amp;sort=gross&amp;order=DESC&amp;studio=roadsideattractions.htm\">RAtt.</option>\n",
      "<option value=\"/yearly/chart/?view=releasedate&amp;view2=domestic&amp;yr=2016&amp;sort=gross&amp;order=DESC&amp;studio=reliance.htm\">Rel.</option>\n",
      "<option value=\"/yearly/chart/?view=releasedate&amp;view2=domestic&amp;yr=2016&amp;sort=gross&amp;order=DESC&amp;studio=relativity.htm\">Rela.</option>\n",
      "<option value=\"/yearly/chart/?view=releasedate&amp;view2=domestic&amp;yr=2016&amp;sort=gross&amp;order=DESC&amp;studio=reliancebigpictures.htm\">Relbig.</option>\n",
      "<option value=\"/yearly/chart/?view=releasedate&amp;view2=domestic&amp;yr=2016&amp;sort=gross&amp;order=DESC&amp;studio=rialto.htm\">Rialto</option>\n",
      "<option value=\"/yearly/chart/?view=releasedate&amp;view2=domestic&amp;yr=2016&amp;sort=gross&amp;order=DESC&amp;studio=rockymountainpictures.htm\">RM</option>\n",
      "<option value=\"/yearly/chart/?view=releasedate&amp;view2=domestic&amp;yr=2016&amp;sort=gross&amp;order=DESC&amp;studio=sabanfilms.htm\">Saban</option>\n",
      "<option value=\"/yearly/chart/?view=releasedate&amp;view2=domestic&amp;yr=2016&amp;sort=gross&amp;order=DESC&amp;studio=sevenclubsent.htm\">SC</option>\n",
      "<option value=\"/yearly/chart/?view=releasedate&amp;view2=domestic&amp;yr=2016&amp;sort=gross&amp;order=DESC&amp;studio=screenmedia.htm\">Scre.</option>\n",
      "<option value=\"/yearly/chart/?view=releasedate&amp;view2=domestic&amp;yr=2016&amp;sort=gross&amp;order=DESC&amp;studio=sundanceselects.htm\">SDS</option>\n",
      "<option value=\"/yearly/chart/?view=releasedate&amp;view2=domestic&amp;yr=2016&amp;sort=gross&amp;order=DESC&amp;studio=screengems.htm\">SGem</option>\n",
      "<option value=\"/yearly/chart/?view=releasedate&amp;view2=domestic&amp;yr=2016&amp;sort=gross&amp;order=DESC&amp;studio=scrngems.htm\">SGM</option>\n",
      "<option value=\"/yearly/chart/?view=releasedate&amp;view2=domestic&amp;yr=2016&amp;sort=gross&amp;order=DESC&amp;studio=shadow.htm\">Shad.</option>\n",
      "<option value=\"/yearly/chart/?view=releasedate&amp;view2=domestic&amp;yr=2016&amp;sort=gross&amp;order=DESC&amp;studio=shoutfactory.htm\">Shout!</option>\n",
      "<option value=\"/yearly/chart/?view=releasedate&amp;view2=domestic&amp;yr=2016&amp;sort=gross&amp;order=DESC&amp;studio=shortsinternational.htm\">Shrts.</option>\n",
      "<option value=\"/yearly/chart/?view=releasedate&amp;view2=domestic&amp;yr=2016&amp;sort=gross&amp;order=DESC&amp;studio=skyislandfilms.htm\">SkyI</option>\n",
      "<option value=\"/yearly/chart/?view=releasedate&amp;view2=domestic&amp;yr=2016&amp;sort=gross&amp;order=DESC&amp;studio=starzmedia.htm\">SM</option>\n",
      "<option value=\"/yearly/chart/?view=releasedate&amp;view2=domestic&amp;yr=2016&amp;sort=gross&amp;order=DESC&amp;studio=sony.htm\">Sony</option>\n",
      "<option value=\"/yearly/chart/?view=releasedate&amp;view2=domestic&amp;yr=2016&amp;sort=gross&amp;order=DESC&amp;studio=sonyclassics.htm\">SPC</option>\n",
      "<option value=\"/yearly/chart/?view=releasedate&amp;view2=domestic&amp;yr=2016&amp;sort=gross&amp;order=DESC&amp;studio=strand.htm\">Strand</option>\n",
      "<option value=\"/yearly/chart/?view=releasedate&amp;view2=domestic&amp;yr=2016&amp;sort=gross&amp;order=DESC&amp;studio=stx.htm\">STX</option>\n",
      "<option value=\"/yearly/chart/?view=releasedate&amp;view2=domestic&amp;yr=2016&amp;sort=gross&amp;order=DESC&amp;studio=filmarcade.htm\">TFA</option>\n",
      "<option value=\"/yearly/chart/?view=releasedate&amp;view2=domestic&amp;yr=2016&amp;sort=gross&amp;order=DESC&amp;studio=filmcollaborative.htm\">TFC</option>\n",
      "<option value=\"/yearly/chart/?view=releasedate&amp;view2=domestic&amp;yr=2016&amp;sort=gross&amp;order=DESC&amp;studio=transatlantic.htm\">Trans</option>\n",
      "<option value=\"/yearly/chart/?view=releasedate&amp;view2=domestic&amp;yr=2016&amp;sort=gross&amp;order=DESC&amp;studio=tristar.htm\">TriS</option>\n",
      "<option selected=\"\" value=\"/yearly/chart/?view=releasedate&amp;view2=domestic&amp;yr=2016&amp;sort=gross&amp;order=DESC&amp;studio=\">TUG</option>\n",
      "<option value=\"/yearly/chart/?view=releasedate&amp;view2=domestic&amp;yr=2016&amp;sort=gross&amp;order=DESC&amp;studio=unitedentertainment.htm\">UEP</option>\n",
      "<option value=\"/yearly/chart/?view=releasedate&amp;view2=domestic&amp;yr=2016&amp;sort=gross&amp;order=DESC&amp;studio=universal.htm\">Uni.</option>\n",
      "<option value=\"/yearly/chart/?view=releasedate&amp;view2=domestic&amp;yr=2016&amp;sort=gross&amp;order=DESC&amp;studio=utv.htm\">UTV</option>\n",
      "<option value=\"/yearly/chart/?view=releasedate&amp;view2=domestic&amp;yr=2016&amp;sort=gross&amp;order=DESC&amp;studio=vanishingangle.htm\">Vanishing</option>\n",
      "<option value=\"/yearly/chart/?view=releasedate&amp;view2=domestic&amp;yr=2016&amp;sort=gross&amp;order=DESC&amp;studio=wdimension.htm\">W/Dim.</option>\n",
      "<option value=\"/yearly/chart/?view=releasedate&amp;view2=domestic&amp;yr=2016&amp;sort=gross&amp;order=DESC&amp;studio=warnerbros.htm\">WB</option>\n",
      "<option value=\"/yearly/chart/?view=releasedate&amp;view2=domestic&amp;yr=2016&amp;sort=gross&amp;order=DESC&amp;studio=wb-newline.htm\">WB (NL)</option>\n",
      "<option value=\"/yearly/chart/?view=releasedate&amp;view2=domestic&amp;yr=2016&amp;sort=gross&amp;order=DESC&amp;studio=weinsteincompany.htm\">Wein.</option>\n",
      "<option value=\"/yearly/chart/?view=releasedate&amp;view2=domestic&amp;yr=2016&amp;sort=gross&amp;order=DESC&amp;studio=wellgo.htm\">WGUSA</option>\n",
      "<option value=\"/yearly/chart/?view=releasedate&amp;view2=domestic&amp;yr=2016&amp;sort=gross&amp;order=DESC&amp;studio=wondervision.htm\">Wonder</option>\n",
      "<option value=\"/yearly/chart/?view=releasedate&amp;view2=domestic&amp;yr=2016&amp;sort=gross&amp;order=DESC&amp;studio=internationalwow.htm\">WOW</option>\n",
      "<option value=\"/yearly/chart/?view=releasedate&amp;view2=domestic&amp;yr=2016&amp;sort=gross&amp;order=DESC&amp;studio=wra.htm\">WRA</option>\n",
      "<option value=\"/yearly/chart/?view=releasedate&amp;view2=domestic&amp;yr=2016&amp;sort=gross&amp;order=DESC&amp;studio=yashraj.htm\">Yash</option>\n",
      "<option value=\"/yearly/chart/?view=releasedate&amp;view2=domestic&amp;yr=2016&amp;sort=gross&amp;order=DESC&amp;studio=yarifilmgroup.htm\">YFG</option>\n",
      "<option value=\"/yearly/chart/?view=releasedate&amp;view2=domestic&amp;yr=2016&amp;sort=gross&amp;order=DESC&amp;studio=zeitgeist.htm\">Zeit.</option>\n",
      "<option value=\"/yearly/chart/?view=releasedate&amp;view2=domestic&amp;yr=2016&amp;sort=gross&amp;order=DESC&amp;p=.htm\">ALL</option>\n",
      "</select></td></tr></form></table><a></a></br></font>, <font size=\"2\"><a href=\"/yearly/chart/?view=releasedate&amp;view2=domestic&amp;yr=2016&amp;sort=gross&amp;order=ASC&amp;p=.htm\"><b>Total Gross</b></a> / </font>, <font size=\"2\"><a href=\"/yearly/chart/?view=releasedate&amp;view2=domestic&amp;yr=2016&amp;sort=theaters&amp;order=DESC&amp;p=.htm\">Theaters</a></font>, <font size=\"2\"><a href=\"/yearly/chart/?view=releasedate&amp;view2=domestic&amp;yr=2016&amp;sort=opengross&amp;order=DESC&amp;p=.htm\">Opening</a> / </font>, <font size=\"2\"><a href=\"/yearly/chart/?view=releasedate&amp;view2=domestic&amp;yr=2016&amp;sort=opentheaters&amp;order=DESC&amp;p=.htm\">Theaters</a></font>, <font size=\"2\"><a href=\"/yearly/chart/?view=releasedate&amp;view2=domestic&amp;yr=2016&amp;sort=open&amp;order=DESC&amp;p=.htm\">Open</a></font>, <font size=\"2\"><a href=\"/yearly/chart/?view=releasedate&amp;view2=domestic&amp;yr=2016&amp;sort=close&amp;order=DESC&amp;p=.htm\">Close</a></font>, <font size=\"2\">1</font>, <font size=\"2\"><a href=\"/movies/?id=marvel2016.htm\">Captain America: Civil War</a></font>, <font size=\"2\"><a href=\"/studio/chart/?studio=buenavista.htm\">BV</a></font>, <font size=\"2\"><b>$405,933,164</b></font>, <font size=\"2\">4,226</font>, <font size=\"2\">$179,139,142</font>, <font size=\"2\">4,226</font>, <font size=\"2\"><a href=\"/schedule/?view=bydate&amp;release=theatrical&amp;date=2016-05-06&amp;p=.htm\">5/6</a></font>, <font size=\"2\">-</font>, <font size=\"2\">2</font>, <font size=\"2\"><a href=\"/movies/?id=pixar2015.htm\">Finding Dory</a></font>, <font size=\"2\"><a href=\"/studio/chart/?studio=buenavista.htm\">BV</a></font>, <font size=\"2\"><b>$402,229,243</b></font>, <font size=\"2\">4,305</font>, <font size=\"2\">$135,060,273</font>, <font size=\"2\">4,305</font>, <font size=\"2\"><a href=\"/schedule/?view=bydate&amp;release=theatrical&amp;date=2016-06-17&amp;p=.htm\">6/17</a></font>, <font size=\"2\">-</font>, <font size=\"2\">3</font>, <font size=\"2\"><a href=\"/movies/?id=deadpool2016.htm\">Deadpool</a></font>, <font size=\"2\"><a href=\"/studio/chart/?studio=fox.htm\">Fox</a></font>, <font size=\"2\"><b>$363,070,709</b></font>, <font size=\"2\">3,856</font>, <font size=\"2\">$132,434,639</font>, <font size=\"2\">3,558</font>, <font size=\"2\"><a href=\"/schedule/?view=bydate&amp;release=theatrical&amp;date=2016-02-12&amp;p=.htm\">2/12</a></font>, <font size=\"2\">6/16</font>, <font size=\"2\">4</font>, <font size=\"2\"><a href=\"/movies/?id=junglebook2015.htm\">The Jungle Book (2016)</a></font>, <font size=\"2\"><a href=\"/studio/chart/?studio=buenavista.htm\">BV</a></font>, <font size=\"2\"><b>$359,910,883</b></font>, <font size=\"2\">4,144</font>, <font size=\"2\">$103,261,464</font>, <font size=\"2\">4,028</font>, <font size=\"2\"><a href=\"/schedule/?view=bydate&amp;release=theatrical&amp;date=2016-04-15&amp;p=.htm\">4/15</a></font>, <font size=\"2\">-</font>, <font size=\"2\">5</font>, <font size=\"2\"><a href=\"/movies/?id=disney2016.htm\">Zootopia</a></font>, <font size=\"2\"><a href=\"/studio/chart/?studio=buenavista.htm\">BV</a></font>, <font size=\"2\"><b>$340,855,247</b></font>, <font size=\"2\">3,959</font>, <font size=\"2\">$75,063,401</font>, <font size=\"2\">3,827</font>, <font size=\"2\"><a href=\"/schedule/?view=bydate&amp;release=theatrical&amp;date=2016-03-04&amp;p=.htm\">3/4</a></font>, <font size=\"2\">-</font>, <font size=\"2\">6</font>, <font size=\"2\"><a href=\"/movies/?id=superman2015.htm\">Batman v Superman: Dawn of Justice</a></font>, <font size=\"2\"><a href=\"/studio/chart/?studio=warnerbros.htm\">WB</a></font>, <font size=\"2\"><b>$330,360,194</b></font>, <font size=\"2\">4,256</font>, <font size=\"2\">$166,007,347</font>, <font size=\"2\">4,242</font>, <font size=\"2\"><a href=\"/schedule/?view=bydate&amp;release=theatrical&amp;date=2016-03-25&amp;p=.htm\">3/25</a></font>, <font size=\"2\">6/16</font>, <font size=\"2\">7</font>, <font size=\"2\"><a href=\"/movies/?id=x-men2016.htm\">X-Men: Apocalypse</a></font>, <font size=\"2\"><a href=\"/studio/chart/?studio=fox.htm\">Fox</a></font>, <font size=\"2\"><b>$154,089,477</b></font>, <font size=\"2\">4,153</font>, <font size=\"2\">$65,769,562</font>, <font size=\"2\">4,150</font>, <font size=\"2\"><a href=\"/schedule/?view=bydate&amp;release=theatrical&amp;date=2016-05-27&amp;p=.htm\">5/27</a></font>, <font size=\"2\">-</font>, <font size=\"2\">8</font>, <font size=\"2\"><a href=\"/movies/?id=kungfupanda3.htm\">Kung Fu Panda 3</a></font>, <font size=\"2\"><a href=\"/studio/chart/?studio=fox.htm\">Fox</a></font>, <font size=\"2\"><b>$143,497,630</b></font>, <font size=\"2\">3,987</font>, <font size=\"2\">$41,282,042</font>, <font size=\"2\">3,955</font>, <font size=\"2\"><a href=\"/schedule/?view=bydate&amp;release=theatrical&amp;date=2016-01-29&amp;p=.htm\">1/29</a></font>, <font size=\"2\">-</font>, <font size=\"2\">9</font>, <font size=\"2\"><a href=\"/movies/?id=angrybirds.htm\">The Angry Birds Movie</a></font>, <font size=\"2\"><a href=\"/studio/chart/?studio=sony.htm\">Sony</a></font>, <font size=\"2\"><b>$105,936,416</b></font>, <font size=\"2\">3,932</font>, <font size=\"2\">$38,155,177</font>, <font size=\"2\">3,932</font>, <font size=\"2\"><a href=\"/schedule/?view=bydate&amp;release=theatrical&amp;date=2016-05-20&amp;p=.htm\">5/20</a></font>, <font size=\"2\">-</font>, <font size=\"2\">10</font>, <font size=\"2\"><a href=\"/movies/?id=centralintelligence.htm\">Central Intelligence</a></font>, <font size=\"2\"><a href=\"/studio/chart/?studio=wb-newline.htm\">WB (NL)</a></font>, <font size=\"2\"><b>$100,200,338</b></font>, <font size=\"2\">3,508</font>, <font size=\"2\">$35,535,250</font>, <font size=\"2\">3,508</font>, <font size=\"2\"><a href=\"/schedule/?view=bydate&amp;release=theatrical&amp;date=2016-06-17&amp;p=.htm\">6/17</a></font>, <font size=\"2\">-</font>, <font size=\"2\">11</font>, <font size=\"2\"><a href=\"/movies/?id=conjuring2.htm\">The Conjuring 2</a></font>, <font size=\"2\"><a href=\"/studio/chart/?studio=wb-newline.htm\">WB (NL)</a></font>, <font size=\"2\"><b>$97,628,332</b></font>, <font size=\"2\">3,356</font>, <font size=\"2\">$40,406,314</font>, <font size=\"2\">3,343</font>, <font size=\"2\"><a href=\"/schedule/?view=bydate&amp;release=theatrical&amp;date=2016-06-10&amp;p=.htm\">6/10</a></font>, <font size=\"2\">-</font>, <font size=\"2\">12</font>, <font size=\"2\"><a href=\"/movies/?id=ridealong2.htm\">Ride Along 2</a></font>, <font size=\"2\"><a href=\"/studio/chart/?studio=universal.htm\">Uni.</a></font>, <font size=\"2\"><b>$90,862,685</b></font>, <font size=\"2\">3,192</font>, <font size=\"2\">$35,243,095</font>, <font size=\"2\">3,175</font>, <font size=\"2\"><a href=\"/schedule/?view=bydate&amp;release=theatrical&amp;date=2016-01-15&amp;p=.htm\">1/15</a></font>, <font size=\"2\">4/7</font>, <font size=\"2\">13</font>, <font size=\"2\"><a href=\"/movies/?id=id42.htm\">Independence Day: Resurgence</a></font>, <font size=\"2\"><a href=\"/studio/chart/?studio=fox.htm\">Fox</a></font>, <font size=\"2\"><b>$83,795,582</b></font>, <font size=\"2\">4,130</font>, <font size=\"2\">$41,039,944</font>, <font size=\"2\">4,130</font>, <font size=\"2\"><a href=\"/schedule/?view=bydate&amp;release=theatrical&amp;date=2016-06-24&amp;p=.htm\">6/24</a></font>, <font size=\"2\">-</font>, <font size=\"2\">14</font>, <font size=\"2\"><a href=\"/movies/?id=tmnt2016.htm\">Teenage Mutant Ninja Turtles: Out of the Shadows</a></font>, <font size=\"2\"><a href=\"/studio/chart/?studio=paramount.htm\">Par.</a></font>, <font size=\"2\"><b>$80,083,801</b></font>, <font size=\"2\">4,071</font>, <font size=\"2\">$35,316,382</font>, <font size=\"2\">4,071</font>, <font size=\"2\"><a href=\"/schedule/?view=bydate&amp;release=theatrical&amp;date=2016-06-03&amp;p=.htm\">6/3</a></font>, <font size=\"2\">-</font>, <font size=\"2\">15</font>, <font size=\"2\"><a href=\"/movies/?id=alice2.htm\">Alice Through the Looking Glass</a></font>, <font size=\"2\"><a href=\"/studio/chart/?studio=buenavista.htm\">BV</a></font>, <font size=\"2\"><b>$75,906,996</b></font>, <font size=\"2\">3,763</font>, <font size=\"2\">$26,858,726</font>, <font size=\"2\">3,763</font>, <font size=\"2\"><a href=\"/schedule/?view=bydate&amp;release=theatrical&amp;date=2016-05-27&amp;p=.htm\">5/27</a></font>, <font size=\"2\">-</font>, <font size=\"2\">16</font>, <font size=\"2\"><a href=\"/movies/?id=badrobot2016.htm\">10 Cloverfield Lane</a></font>, <font size=\"2\"><a href=\"/studio/chart/?studio=paramount.htm\">Par.</a></font>, <font size=\"2\"><b>$72,082,998</b></font>, <font size=\"2\">3,427</font>, <font size=\"2\">$24,727,437</font>, <font size=\"2\">3,391</font>, <font size=\"2\"><a href=\"/schedule/?view=bydate&amp;release=theatrical&amp;date=2016-03-11&amp;p=.htm\">3/11</a></font>, <font size=\"2\">6/2</font>, <font size=\"2\">17</font>, <font size=\"2\"><a href=\"/movies/?id=allegiant.htm\">The Divergent Series: Allegiant</a></font>, <font size=\"2\"><a href=\"/studio/chart/?studio=lionsgatesummit.htm\">LG/S</a></font>, <font size=\"2\"><b>$66,184,051</b></font>, <font size=\"2\">3,740</font>, <font size=\"2\">$29,027,348</font>, <font size=\"2\">3,740</font>, <font size=\"2\"><a href=\"/schedule/?view=bydate&amp;release=theatrical&amp;date=2016-03-18&amp;p=.htm\">3/18</a></font>, <font size=\"2\">6/2</font>, <font size=\"2\">18</font>, <font size=\"2\"><a href=\"/movies/?id=michelledarnell.htm\">The Boss</a></font>, <font size=\"2\"><a href=\"/studio/chart/?studio=universal.htm\">Uni.</a></font>, <font size=\"2\"><b>$63,077,560</b></font>, <font size=\"2\">3,495</font>, <font size=\"2\">$23,586,645</font>, <font size=\"2\">3,480</font>, <font size=\"2\"><a href=\"/schedule/?view=bydate&amp;release=theatrical&amp;date=2016-04-08&amp;p=.htm\">4/8</a></font>, <font size=\"2\">6/16</font>, <font size=\"2\">19</font>, <font size=\"2\"><a href=\"/movies/?id=londonhasfallen.htm\">London Has Fallen</a></font>, <font size=\"2\"><a href=\"/studio/chart/?studio=focus.htm\">Focus</a></font>, <font size=\"2\"><b>$62,524,260</b></font>, <font size=\"2\">3,492</font>, <font size=\"2\">$21,635,601</font>, <font size=\"2\">3,490</font>, <font size=\"2\"><a href=\"/schedule/?view=bydate&amp;release=theatrical&amp;date=2016-03-04&amp;p=.htm\">3/4</a></font>, <font size=\"2\">6/2</font>, <font size=\"2\">20</font>, <font size=\"2\"><a href=\"/movies/?id=miraclesfromheaven.htm\">Miracles from Heaven</a></font>, <font size=\"2\"><a href=\"/studio/chart/?studio=tristar.htm\">TriS</a></font>, <font size=\"2\"><b>$61,641,255</b></font>, <font size=\"2\">3,155</font>, <font size=\"2\">$14,812,393</font>, <font size=\"2\">3,047</font>, <font size=\"2\"><a href=\"/schedule/?view=bydate&amp;release=theatrical&amp;date=2016-03-16&amp;p=.htm\">3/16</a></font>, <font size=\"2\">-</font>, <font size=\"2\">21</font>, <font size=\"2\"><a href=\"/movies/?id=nowyouseeme2.htm\">Now You See Me 2</a></font>, <font size=\"2\"><a href=\"/studio/chart/?studio=lionsgatesummit.htm\">LG/S</a></font>, <font size=\"2\"><b>$60,829,213</b></font>, <font size=\"2\">3,232</font>, <font size=\"2\">$22,383,146</font>, <font size=\"2\">3,232</font>, <font size=\"2\"><a href=\"/schedule/?view=bydate&amp;release=theatrical&amp;date=2016-06-10&amp;p=.htm\">6/10</a></font>, <font size=\"2\">-</font>, <font size=\"2\">22</font>, <font size=\"2\"><a href=\"/movies/?id=tarzan2016.htm\">The Legend of Tarzan</a></font>, <font size=\"2\"><a href=\"/studio/chart/?studio=warnerbros.htm\">WB</a></font>, <font size=\"2\"><b>$60,797,712</b></font>, <font size=\"2\">3,591</font>, <font size=\"2\">$38,527,856</font>, <font size=\"2\">3,561</font>, <font size=\"2\"><a href=\"/schedule/?view=bydate&amp;release=theatrical&amp;date=2016-07-01&amp;p=.htm\">7/1</a></font>, <font size=\"2\">-</font>, <font size=\"2\">23</font>, <font size=\"2\"><a href=\"/movies/?id=mybigfatgreekwedding2.htm\">My Big Fat Greek Wedding 2</a></font>, <font size=\"2\"><a href=\"/studio/chart/?studio=universal.htm\">Uni.</a></font>, <font size=\"2\"><b>$59,689,605</b></font>, <font size=\"2\">3,179</font>, <font size=\"2\">$17,861,950</font>, <font size=\"2\">3,133</font>, <font size=\"2\"><a href=\"/schedule/?view=bydate&amp;release=theatrical&amp;date=2016-03-25&amp;p=.htm\">3/25</a></font>, <font size=\"2\">5/26</font>, <font size=\"2\">24</font>, <font size=\"2\"><a href=\"/movies/?id=universalcomedy2016.htm\">Neighbors 2: Sorority Rising</a></font>, <font size=\"2\"><a href=\"/studio/chart/?studio=universal.htm\">Uni.</a></font>, <font size=\"2\"><b>$55,209,020</b></font>, <font size=\"2\">3,416</font>, <font size=\"2\">$21,760,405</font>, <font size=\"2\">3,384</font>, <font size=\"2\"><a href=\"/schedule/?view=bydate&amp;release=theatrical&amp;date=2016-05-20&amp;p=.htm\">5/20</a></font>, <font size=\"2\">-</font>, <font size=\"2\">25</font>, <font size=\"2\"><a href=\"/movies/?id=mebeforeyou.htm\">Me Before You</a></font>, <font size=\"2\"><a href=\"/studio/chart/?studio=wb-newline.htm\">WB (NL)</a></font>, <font size=\"2\"><b>$54,386,134</b></font>, <font size=\"2\">2,762</font>, <font size=\"2\">$18,723,269</font>, <font size=\"2\">2,704</font>, <font size=\"2\"><a href=\"/schedule/?view=bydate&amp;release=theatrical&amp;date=2016-06-03&amp;p=.htm\">6/3</a></font>, <font size=\"2\">-</font>, <font size=\"2\">26</font>, <font size=\"2\"><a href=\"/movies/?id=barbershop3.htm\">Barbershop: The Next Cut</a></font>, <font size=\"2\"><a href=\"/studio/chart/?studio=wb-newline.htm\">WB (NL)</a></font>, <font size=\"2\"><b>$53,984,336</b></font>, <font size=\"2\">2,676</font>, <font size=\"2\">$20,242,415</font>, <font size=\"2\">2,661</font>, <font size=\"2\"><a href=\"/schedule/?view=bydate&amp;release=theatrical&amp;date=2016-04-15&amp;p=.htm\">4/15</a></font>, <font size=\"2\">-</font>, <font size=\"2\">27</font>, <font size=\"2\"><a href=\"/movies/?id=13hoursthesecretsoldiersofbenghazi.htm\">13 Hours: The Secret Soldiers of Benghazi</a></font>, <font size=\"2\"><a href=\"/studio/chart/?studio=paramount.htm\">Par.</a></font>, <font size=\"2\"><b>$52,853,219</b></font>, <font size=\"2\">2,917</font>, <font size=\"2\">$16,194,738</font>, <font size=\"2\">2,389</font>, <font size=\"2\"><a href=\"/schedule/?view=bydate&amp;release=theatrical&amp;date=2016-01-15&amp;p=.htm\">1/15</a></font>, <font size=\"2\">3/24</font>, <font size=\"2\">28</font>, <font size=\"2\"><a href=\"/movies/?id=huntsman.htm\">The Huntsman: Winter's War</a></font>, <font size=\"2\"><a href=\"/studio/chart/?studio=universal.htm\">Uni.</a></font>, <font size=\"2\"><b>$48,003,015</b></font>, <font size=\"2\">3,802</font>, <font size=\"2\">$19,445,035</font>, <font size=\"2\">3,791</font>, <font size=\"2\"><a href=\"/schedule/?view=bydate&amp;release=theatrical&amp;date=2016-04-22&amp;p=.htm\">4/22</a></font>, <font size=\"2\">6/16</font>, <font size=\"2\">29</font>, <font size=\"2\"><a href=\"/movies/?id=howtobesingle.htm\">How to Be Single</a></font>, <font size=\"2\"><a href=\"/studio/chart/?studio=warnerbros.htm\">WB</a></font>, <font size=\"2\"><b>$46,843,513</b></font>, <font size=\"2\">3,357</font>, <font size=\"2\">$17,878,911</font>, <font size=\"2\">3,343</font>, <font size=\"2\"><a href=\"/schedule/?view=bydate&amp;release=theatrical&amp;date=2016-02-12&amp;p=.htm\">2/12</a></font>, <font size=\"2\">4/14</font>, <font size=\"2\">30</font>, <font size=\"2\"><a href=\"/movies/?id=purge3.htm\">The Purge: Election Year</a></font>, <font size=\"2\"><a href=\"/studio/chart/?studio=universal.htm\">Uni.</a></font>, <font size=\"2\"><b>$46,410,275</b></font>, <font size=\"2\">2,821</font>, <font size=\"2\">$31,515,110</font>, <font size=\"2\">2,796</font>, <font size=\"2\"><a href=\"/schedule/?view=bydate&amp;release=theatrical&amp;date=2016-07-01&amp;p=.htm\">7/1</a></font>, <font size=\"2\">-</font>, <font size=\"2\">31</font>, <font size=\"2\"><a href=\"/movies/?id=warcraft.htm\">Warcraft</a></font>, <font size=\"2\"><a href=\"/studio/chart/?studio=universal.htm\">Uni.</a></font>, <font size=\"2\"><b>$46,114,135</b></font>, <font size=\"2\">3,406</font>, <font size=\"2\">$24,166,110</font>, <font size=\"2\">3,400</font>, <font size=\"2\"><a href=\"/schedule/?view=bydate&amp;release=theatrical&amp;date=2016-06-10&amp;p=.htm\">6/10</a></font>, <font size=\"2\">-</font>, <font size=\"2\">32</font>, <font size=\"2\"><a href=\"/movies/?id=theshallows.htm\">The Shallows</a></font>, <font size=\"2\"><a href=\"/studio/chart/?studio=sony.htm\">Sony</a></font>, <font size=\"2\"><b>$41,025,279</b></font>, <font size=\"2\">2,962</font>, <font size=\"2\">$16,800,868</font>, <font size=\"2\">2,962</font>, <font size=\"2\"><a href=\"/schedule/?view=bydate&amp;release=theatrical&amp;date=2016-06-24&amp;p=.htm\">6/24</a></font>, <font size=\"2\">-</font>, <font size=\"2\">33</font>, <font size=\"2\"><a href=\"/movies/?id=moneymonster.htm\">Money Monster</a></font>, <font size=\"2\"><a href=\"/studio/chart/?studio=tristar.htm\">TriS</a></font>, <font size=\"2\"><b>$40,801,956</b></font>, <font size=\"2\">3,104</font>, <font size=\"2\">$14,788,157</font>, <font size=\"2\">3,104</font>, <font size=\"2\"><a href=\"/schedule/?view=bydate&amp;release=theatrical&amp;date=2016-05-13&amp;p=.htm\">5/13</a></font>, <font size=\"2\">-</font>, <font size=\"2\">34</font>, <font size=\"2\"><a href=\"/movies/?id=risen.htm\">Risen</a></font>, <font size=\"2\"><a href=\"/studio/chart/?studio=sony.htm\">Sony</a></font>, <font size=\"2\"><b>$36,880,033</b></font>, <font size=\"2\">2,915</font>, <font size=\"2\">$11,801,271</font>, <font size=\"2\">2,915</font>, <font size=\"2\"><a href=\"/schedule/?view=bydate&amp;release=theatrical&amp;date=2016-02-19&amp;p=.htm\">2/19</a></font>, <font size=\"2\">5/19</font>, <font size=\"2\">35</font>, <font size=\"2\"><a href=\"/movies/?id=boy2016.htm\">The Boy (2016)</a></font>, <font size=\"2\"><a href=\"/studio/chart/?studio=stx.htm\">STX</a></font>, <font size=\"2\"><b>$35,819,556</b></font>, <font size=\"2\">2,671</font>, <font size=\"2\">$10,778,392</font>, <font size=\"2\">2,671</font>, <font size=\"2\"><a href=\"/schedule/?view=bydate&amp;release=theatrical&amp;date=2016-01-22&amp;p=.htm\">1/22</a></font>, <font size=\"2\">3/31</font>, <font size=\"2\">36</font>, <font size=\"2\"><a href=\"/movies/?id=niceguys.htm\">The Nice Guys</a></font>, <font size=\"2\"><a href=\"/studio/chart/?studio=warnerbros.htm\">WB</a></font>, <font size=\"2\"><b>$35,691,214</b></font>, <font size=\"2\">2,865</font>, <font size=\"2\">$11,203,270</font>, <font size=\"2\">2,865</font>, <font size=\"2\"><a href=\"/schedule/?view=bydate&amp;release=theatrical&amp;date=2016-05-20&amp;p=.htm\">5/20</a></font>, <font size=\"2\">-</font>, <font size=\"2\">37</font>, <font size=\"2\"><a href=\"/movies/?id=dirtygrandpa.htm\">Dirty Grandpa</a></font>, <font size=\"2\"><a href=\"/studio/chart/?studio=lionsgate.htm\">LGF</a></font>, <font size=\"2\"><b>$35,593,113</b></font>, <font size=\"2\">2,912</font>, <font size=\"2\">$11,111,875</font>, <font size=\"2\">2,912</font>, <font size=\"2\"><a href=\"/schedule/?view=bydate&amp;release=theatrical&amp;date=2016-01-22&amp;p=.htm\">1/22</a></font>, <font size=\"2\">3/17</font>, <font size=\"2\">38</font>, <font size=\"2\"><a href=\"/movies/?id=5thwave.htm\">The 5th Wave</a></font>, <font size=\"2\"><a href=\"/studio/chart/?studio=sony.htm\">Sony</a></font>, <font size=\"2\"><b>$34,912,982</b></font>, <font size=\"2\">2,908</font>, <font size=\"2\">$10,326,356</font>, <font size=\"2\">2,908</font>, <font size=\"2\"><a href=\"/schedule/?view=bydate&amp;release=theatrical&amp;date=2016-01-22&amp;p=.htm\">1/22</a></font>, <font size=\"2\">5/22</font>, <font size=\"2\">39</font>, <font size=\"2\"><a href=\"/movies/?id=mothersday.htm\">Mother's Day</a></font>, <font size=\"2\"><a href=\"/studio/chart/?studio=openroads.htm\">ORF</a></font>, <font size=\"2\"><b>$32,492,859</b></font>, <font size=\"2\">3,291</font>, <font size=\"2\">$8,369,184</font>, <font size=\"2\">3,035</font>, <font size=\"2\"><a href=\"/schedule/?view=bydate&amp;release=theatrical&amp;date=2016-04-29&amp;p=.htm\">4/29</a></font>, <font size=\"2\">6/16</font>, <font size=\"2\">40</font>, <font size=\"2\"><a href=\"/movies/?id=godsofegypt.htm\">Gods of Egypt</a></font>, <font size=\"2\"><a href=\"/studio/chart/?studio=lionsgatesummit.htm\">LG/S</a></font>, <font size=\"2\"><b>$31,153,464</b></font>, <font size=\"2\">3,117</font>, <font size=\"2\">$14,123,903</font>, <font size=\"2\">3,117</font>, <font size=\"2\"><a href=\"/schedule/?view=bydate&amp;release=theatrical&amp;date=2016-02-26&amp;p=.htm\">2/26</a></font>, <font size=\"2\">5/12</font>, <font size=\"2\">41</font>, <font size=\"2\"><a href=\"/movies/?id=bfg.htm\">The BFG</a></font>, <font size=\"2\"><a href=\"/studio/chart/?studio=buenavista.htm\">BV</a></font>, <font size=\"2\"><b>$31,134,762</b></font>, <font size=\"2\">3,392</font>, <font size=\"2\">$18,775,350</font>, <font size=\"2\">3,357</font>, <font size=\"2\"><a href=\"/schedule/?view=bydate&amp;release=theatrical&amp;date=2016-07-01&amp;p=.htm\">7/1</a></font>, <font size=\"2\">-</font>, <font size=\"2\">42</font>, <font size=\"2\"><a href=\"/movies/?id=hailcaesar.htm\">Hail, Caesar!</a></font>, <font size=\"2\"><a href=\"/studio/chart/?studio=universal.htm\">Uni.</a></font>, <font size=\"2\"><b>$30,080,225</b></font>, <font size=\"2\">2,248</font>, <font size=\"2\">$11,355,225</font>, <font size=\"2\">2,232</font>, <font size=\"2\"><a href=\"/schedule/?view=bydate&amp;release=theatrical&amp;date=2016-02-05&amp;p=.htm\">2/5</a></font>, <font size=\"2\">3/24</font>, <font size=\"2\">43</font>, <font size=\"2\"><a href=\"/movies/?id=zoolander2.htm\">Zoolander 2</a></font>, <font size=\"2\"><a href=\"/studio/chart/?studio=paramount.htm\">Par.</a></font>, <font size=\"2\"><b>$28,848,693</b></font>, <font size=\"2\">3,418</font>, <font size=\"2\">$13,841,146</font>, <font size=\"2\">3,394</font>, <font size=\"2\"><a href=\"/schedule/?view=bydate&amp;release=theatrical&amp;date=2016-02-12&amp;p=.htm\">2/12</a></font>, <font size=\"2\">3/31</font>, <font size=\"2\">44</font>, <font size=\"2\"><a href=\"/movies/?id=finesthours.htm\">The Finest Hours</a></font>, <font size=\"2\"><a href=\"/studio/chart/?studio=buenavista.htm\">BV</a></font>, <font size=\"2\"><b>$27,569,558</b></font>, <font size=\"2\">3,143</font>, <font size=\"2\">$10,288,932</font>, <font size=\"2\">3,143</font>, <font size=\"2\"><a href=\"/schedule/?view=bydate&amp;release=theatrical&amp;date=2016-01-29&amp;p=.htm\">1/29</a></font>, <font size=\"2\">4/7</font>, <font size=\"2\">45</font>, <font size=\"2\"><a href=\"/movies/?id=forest.htm\">The Forest</a></font>, <font size=\"2\"><a href=\"/studio/chart/?studio=focus.htm\">Focus</a></font>, <font size=\"2\"><b>$26,594,261</b></font>, <font size=\"2\">2,509</font>, <font size=\"2\">$12,741,176</font>, <font size=\"2\">2,451</font>, <font size=\"2\"><a href=\"/schedule/?view=bydate&amp;release=theatrical&amp;date=2016-01-08&amp;p=.htm\">1/8</a></font>, <font size=\"2\">3/17</font>, <font size=\"2\">46</font>, <font size=\"2\"><a href=\"/movies/?id=thewitch.htm\">The Witch</a></font>, <font size=\"2\"><a href=\"/studio/chart/?studio=a24.htm\">A24</a></font>, <font size=\"2\"><b>$25,138,705</b></font>, <font size=\"2\">2,204</font>, <font size=\"2\">$8,800,230</font>, <font size=\"2\">2,046</font>, <font size=\"2\"><a href=\"/schedule/?view=bydate&amp;release=theatrical&amp;date=2016-02-19&amp;p=.htm\">2/19</a></font>, <font size=\"2\">5/26</font>, <font size=\"2\">47</font>, <font size=\"2\"><a href=\"/movies/?id=untitledtinafeycomedy.htm\">Whiskey Tango Foxtrot</a></font>, <font size=\"2\"><a href=\"/studio/chart/?studio=paramount.htm\">Par.</a></font>, <font size=\"2\"><b>$23,083,334</b></font>, <font size=\"2\">2,413</font>, <font size=\"2\">$7,450,275</font>, <font size=\"2\">2,374</font>, <font size=\"2\"><a href=\"/schedule/?view=bydate&amp;release=theatrical&amp;date=2016-03-04&amp;p=.htm\">3/4</a></font>, <font size=\"2\">4/28</font>, <font size=\"2\">48</font>, <font size=\"2\"><a href=\"/movies/?id=godsnotdead2.htm\">God's Not Dead 2</a></font>, <font size=\"2\"><a href=\"/studio/chart/?studio=pureflix.htm\">PFR</a></font>, <font size=\"2\"><b>$20,765,027</b></font>, <font size=\"2\">2,419</font>, <font size=\"2\">$7,623,662</font>, <font size=\"2\">2,419</font>, <font size=\"2\"><a href=\"/schedule/?view=bydate&amp;release=theatrical&amp;date=2016-04-01&amp;p=.htm\">4/1</a></font>, <font size=\"2\">-</font>, <font size=\"2\">49</font>, <font size=\"2\"><a href=\"/movies/?id=keanu.htm\">Keanu</a></font>, <font size=\"2\"><a href=\"/studio/chart/?studio=wb-newline.htm\">WB (NL)</a></font>, <font size=\"2\"><b>$20,591,853</b></font>, <font size=\"2\">2,681</font>, <font size=\"2\">$9,453,224</font>, <font size=\"2\">2,658</font>, <font size=\"2\"><a href=\"/schedule/?view=bydate&amp;release=theatrical&amp;date=2016-04-29&amp;p=.htm\">4/29</a></font>, <font size=\"2\">-</font>, <font size=\"2\">50</font>, <font size=\"2\"><a href=\"/movies/?id=race2016.htm\">Race (2016)</a></font>, <font size=\"2\"><a href=\"/studio/chart/?studio=focus.htm\">Focus</a></font>, <font size=\"2\"><b>$19,115,191</b></font>, <font size=\"2\">2,387</font>, <font size=\"2\">$7,353,922</font>, <font size=\"2\">2,369</font>, <font size=\"2\"><a href=\"/schedule/?view=bydate&amp;release=theatrical&amp;date=2016-02-19&amp;p=.htm\">2/19</a></font>, <font size=\"2\">4/21</font>, <font size=\"2\">51</font>, <font size=\"2\"><a href=\"/movies/?id=thechoice.htm\">The Choice</a></font>, <font size=\"2\"><a href=\"/studio/chart/?studio=lionsgate.htm\">LGF</a></font>, <font size=\"2\"><b>$18,730,891</b></font>, <font size=\"2\">2,631</font>, <font size=\"2\">$6,050,443</font>, <font size=\"2\">2,631</font>, <font size=\"2\"><a href=\"/schedule/?view=bydate&amp;release=theatrical&amp;date=2016-02-05&amp;p=.htm\">2/5</a></font>, <font size=\"2\">3/31</font>, <font size=\"2\">52</font>, <font size=\"2\"><a href=\"/movies/?id=eyeinthesky.htm\">Eye in the Sky</a></font>, <font size=\"2\"><a href=\"/studio/chart/?studio=bleeckerstreet.htm\">BST</a></font>, <font size=\"2\"><b>$18,673,217</b></font>, <font size=\"2\">1,089</font>, <font size=\"2\">$113,803</font>, <font size=\"2\">5</font>, <font size=\"2\"><a href=\"/schedule/?view=bydate&amp;release=theatrical&amp;date=2016-03-11&amp;p=.htm\">3/11</a></font>, <font size=\"2\">-</font>, <font size=\"2\">53</font>, <font size=\"2\"><a href=\"/movies/?id=freestateofjones.htm\">Free State of Jones</a></font>, <font size=\"2\"><a href=\"/studio/chart/?studio=stx.htm\">STX</a></font>, <font size=\"2\"><b>$17,936,708</b></font>, <font size=\"2\">2,815</font>, <font size=\"2\">$7,572,206</font>, <font size=\"2\">2,815</font>, <font size=\"2\"><a href=\"/schedule/?view=bydate&amp;release=theatrical&amp;date=2016-06-24&amp;p=.htm\">6/24</a></font>, <font size=\"2\">-</font>, <font size=\"2\">54</font>, <font size=\"2\"><a href=\"/movies/?id=normofthenorth.htm\">Norm of the North</a></font>, <font size=\"2\"><a href=\"/studio/chart/?studio=lionsgate.htm\">LGF</a></font>, <font size=\"2\"><b>$17,062,499</b></font>, <font size=\"2\">2,411</font>, <font size=\"2\">$6,844,137</font>, <font size=\"2\">2,411</font>, <font size=\"2\"><a href=\"/schedule/?view=bydate&amp;release=theatrical&amp;date=2016-01-15&amp;p=.htm\">1/15</a></font>, <font size=\"2\">3/17</font>, <font size=\"2\">55</font>, <font size=\"2\"><a href=\"/movies/?id=eddietheeagle.htm\">Eddie the Eagle</a></font>, <font size=\"2\"><a href=\"/studio/chart/?studio=fox.htm\">Fox</a></font>, <font size=\"2\"><b>$15,789,389</b></font>, <font size=\"2\">2,044</font>, <font size=\"2\">$6,084,682</font>, <font size=\"2\">2,042</font>, <font size=\"2\"><a href=\"/schedule/?view=bydate&amp;release=theatrical&amp;date=2016-02-26&amp;p=.htm\">2/26</a></font>, <font size=\"2\">5/26</font>, <font size=\"2\">56</font>, <font size=\"2\"><a href=\"/movies/?id=criminal2015.htm\">Criminal (2016)</a></font>, <font size=\"2\"><a href=\"/studio/chart/?studio=lionsgatesummit.htm\">LG/S</a></font>, <font size=\"2\"><b>$14,708,696</b></font>, <font size=\"2\">2,683</font>, <font size=\"2\">$5,767,278</font>, <font size=\"2\">2,683</font>, <font size=\"2\"><a href=\"/schedule/?view=bydate&amp;release=theatrical&amp;date=2016-04-15&amp;p=.htm\">4/15</a></font>, <font size=\"2\">5/26</font>, <font size=\"2\">57</font>, <font size=\"2\"><a href=\"/movies/?id=hello,mynameisdoris.htm\">Hello, My Name is Doris</a></font>, <font size=\"2\"><a href=\"/studio/chart/?studio=roadsideattractions.htm\">RAtt.</a></font>, <font size=\"2\"><b>$14,428,196</b></font>, <font size=\"2\">979</font>, <font size=\"2\">$84,986</font>, <font size=\"2\">4</font>, <font size=\"2\"><a href=\"/schedule/?view=bydate&amp;release=theatrical&amp;date=2016-03-11&amp;p=.htm\">3/11</a></font>, <font size=\"2\">-</font>, <font size=\"2\">58</font>, <font size=\"2\"><a href=\"/movies/?id=lovefriendship.htm\">Love &amp; Friendship</a></font>, <font size=\"2\"><a href=\"/studio/chart/?studio=roadsideattractions.htm\">RAtt.</a></font>, <font size=\"2\"><b>$12,823,042</b></font>, <font size=\"2\">826</font>, <font size=\"2\">$133,513</font>, <font size=\"2\">4</font>, <font size=\"2\"><a href=\"/schedule/?view=bydate&amp;release=theatrical&amp;date=2016-05-13&amp;p=.htm\">5/13</a></font>, <font size=\"2\">-</font>, <font size=\"2\">59</font>, <font size=\"2\"><a href=\"/movies/?id=triplenine.htm\">Triple 9</a></font>, <font size=\"2\"><a href=\"/studio/chart/?studio=openroads.htm\">ORF</a></font>, <font size=\"2\"><b>$12,639,297</b></font>, <font size=\"2\">2,205</font>, <font size=\"2\">$6,109,085</font>, <font size=\"2\">2,205</font>, <font size=\"2\"><a href=\"/schedule/?view=bydate&amp;release=theatrical&amp;date=2016-02-26&amp;p=.htm\">2/26</a></font>, <font size=\"2\">4/14</font>, <font size=\"2\">60</font>, <font size=\"2\"><a href=\"/movies/?id=fiftyshadesofblack.htm\">Fifty Shades of Black</a></font>, <font size=\"2\"><a href=\"/studio/chart/?studio=openroads.htm\">ORF</a></font>, <font size=\"2\"><b>$11,686,940</b></font>, <font size=\"2\">2,075</font>, <font size=\"2\">$5,900,528</font>, <font size=\"2\">2,075</font>, <font size=\"2\"><a href=\"/schedule/?view=bydate&amp;release=theatrical&amp;date=2016-01-29&amp;p=.htm\">1/29</a></font>, <font size=\"2\">3/25</font>, <font size=\"2\">61</font>, <font size=\"2\"><a href=\"/movies/?id=prideprejudicezombies.htm\">Pride and Prejudice and Zombies</a></font>, <font size=\"2\"><a href=\"/studio/chart/?studio=screengems.htm\">SGem</a></font>, <font size=\"2\"><b>$10,907,291</b></font>, <font size=\"2\">2,931</font>, <font size=\"2\">$5,324,240</font>, <font size=\"2\">2,931</font>, <font size=\"2\"><a href=\"/schedule/?view=bydate&amp;release=theatrical&amp;date=2016-02-05&amp;p=.htm\">2/5</a></font>, <font size=\"2\">2/28</font>, <font size=\"2\">62</font>, <font size=\"2\"><a href=\"/movies/?id=bhtilt2016.htm\">The Darkness</a></font>, <font size=\"2\"><a href=\"/studio/chart/?studio=hightop.htm\">HTR</a></font>, <font size=\"2\"><b>$10,753,574</b></font>, <font size=\"2\">1,769</font>, <font size=\"2\">$4,950,859</font>, <font size=\"2\">1,755</font>, <font size=\"2\"><a href=\"/schedule/?view=bydate&amp;release=theatrical&amp;date=2016-05-13&amp;p=.htm\">5/13</a></font>, <font size=\"2\">6/30</font>, <font size=\"2\">63</font>, <font size=\"2\"><a href=\"/movies/?id=theperfectmatch.htm\">The Perfect Match</a></font>, <font size=\"2\"><a href=\"/studio/chart/?studio=lionsgate.htm\">LGF</a></font>, <font size=\"2\"><b>$9,669,521</b></font>, <font size=\"2\">925</font>, <font size=\"2\">$4,294,232</font>, <font size=\"2\">925</font>, <font size=\"2\"><a href=\"/schedule/?view=bydate&amp;release=theatrical&amp;date=2016-03-11&amp;p=.htm\">3/11</a></font>, <font size=\"2\">4/28</font>, <font size=\"2\">64</font>, <font size=\"2\"><a href=\"/movies/?id=topsecretuntitledlonelyislandmovie.htm\">Popstar: Never Stop Never Stopping</a></font>, <font size=\"2\"><a href=\"/studio/chart/?studio=universal.htm\">Uni.</a></font>, <font size=\"2\"><b>$9,496,130</b></font>, <font size=\"2\">2,313</font>, <font size=\"2\">$4,698,715</font>, <font size=\"2\">2,311</font>, <font size=\"2\"><a href=\"/schedule/?view=bydate&amp;release=theatrical&amp;date=2016-06-03&amp;p=.htm\">6/3</a></font>, <font size=\"2\">6/23</font>, <font size=\"2\">65</font>, <font size=\"2\"><a href=\"/movies/?id=hardcorehenry.htm\">Hardcore Henry</a></font>, <font size=\"2\"><a href=\"/studio/chart/?studio=stx.htm\">STX</a></font>, <font size=\"2\"><b>$9,252,038</b></font>, <font size=\"2\">3,015</font>, <font size=\"2\">$5,107,604</font>, <font size=\"2\">3,015</font>, <font size=\"2\"><a href=\"/schedule/?view=bydate&amp;release=theatrical&amp;date=2016-04-08&amp;p=.htm\">4/8</a></font>, <font size=\"2\">5/12</font>, <font size=\"2\">66</font>, <font size=\"2\"><a href=\"/movies/?id=meettheblacks.htm\">Meet the Blacks</a></font>, <font size=\"2\"><a href=\"/studio/chart/?studio=fs.htm\">Free</a></font>, <font size=\"2\"><b>$9,097,072</b></font>, <font size=\"2\">1,015</font>, <font size=\"2\">$4,055,940</font>, <font size=\"2\">1,015</font>, <font size=\"2\"><a href=\"/schedule/?view=bydate&amp;release=theatrical&amp;date=2016-04-01&amp;p=.htm\">4/1</a></font>, <font size=\"2\">-</font>, <font size=\"2\">67</font>, <font size=\"2\"><a href=\"/movies/?id=ratchetandclank.htm\">Ratchet &amp; Clank</a></font>, <font size=\"2\"><a href=\"/studio/chart/?studio=focus.htm\">Focus</a></font>, <font size=\"2\"><b>$8,821,329</b></font>, <font size=\"2\">2,895</font>, <font size=\"2\">$4,869,278</font>, <font size=\"2\">2,891</font>, <font size=\"2\"><a href=\"/schedule/?view=bydate&amp;release=theatrical&amp;date=2016-04-29&amp;p=.htm\">4/29</a></font>, <font size=\"2\">6/2</font>, <font size=\"2\">68</font>, <font size=\"2\"><a href=\"/movies/?id=thelobster.htm\">The Lobster (US Release)</a></font>, <font size=\"2\"><a href=\"/studio/chart/?studio=a24.htm\">A24</a></font>, <font size=\"2\"><b>$7,741,572</b></font>, <font size=\"2\">560</font>, <font size=\"2\">$190,252</font>, <font size=\"2\">4</font>, <font size=\"2\"><a href=\"/schedule/?view=bydate&amp;release=theatrical&amp;date=2016-05-13&amp;p=.htm\">5/13</a></font>, <font size=\"2\">-</font>, <font size=\"2\">69</font>, <font size=\"2\"><a href=\"/movies/?id=grimsby.htm\">The Brothers Grimsby</a></font>, <font size=\"2\"><a href=\"/studio/chart/?studio=sony.htm\">Sony</a></font>, <font size=\"2\"><b>$6,874,837</b></font>, <font size=\"2\">2,235</font>, <font size=\"2\">$3,258,327</font>, <font size=\"2\">2,235</font>, <font size=\"2\"><a href=\"/schedule/?view=bydate&amp;release=theatrical&amp;date=2016-03-11&amp;p=.htm\">3/11</a></font>, <font size=\"2\">4/14</font>, <font size=\"2\">70</font>, <font size=\"2\"><a href=\"/movies/?id=christthelord.htm\">The Young Messiah</a></font>, <font size=\"2\"><a href=\"/studio/chart/?studio=focus.htm\">Focus</a></font>, <font size=\"2\"><b>$6,469,813</b></font>, <font size=\"2\">1,769</font>, <font size=\"2\">$3,294,876</font>, <font size=\"2\">1,761</font>, <font size=\"2\"><a href=\"/schedule/?view=bydate&amp;release=theatrical&amp;date=2016-03-11&amp;p=.htm\">3/11</a></font>, <font size=\"2\">4/21</font>, <font size=\"2\">71</font>, <font size=\"2\"><a href=\"/movies/?id=ahologramfortheking.htm\">A Hologram for the King</a></font>, <font size=\"2\"><a href=\"/studio/chart/?studio=roadsideattractions.htm\">RAtt.</a></font>, <font size=\"2\"><b>$4,212,494</b></font>, <font size=\"2\">523</font>, <font size=\"2\">$1,138,578</font>, <font size=\"2\">401</font>, <font size=\"2\"><a href=\"/schedule/?view=bydate&amp;release=theatrical&amp;date=2016-04-22&amp;p=.htm\">4/22</a></font>, <font size=\"2\">-</font>, <font size=\"2\">72</font>, <font size=\"2\"><a href=\"/movies/?id=themeddler.htm\">The Meddler</a></font>, <font size=\"2\"><a href=\"/studio/chart/?studio=sonyclassics.htm\">SPC</a></font>, <font size=\"2\"><b>$4,206,238</b></font>, <font size=\"2\">464</font>, <font size=\"2\">$57,022</font>, <font size=\"2\">4</font>, <font size=\"2\"><a href=\"/schedule/?view=bydate&amp;release=theatrical&amp;date=2016-04-22&amp;p=.htm\">4/22</a></font>, <font size=\"2\">-</font>, <font size=\"2\">73</font>, <font size=\"2\"><a href=\"/movies/?id=wheretoinvadenext.htm\">Where to Invade Next</a></font>, <font size=\"2\"><a href=\"/studio/chart/?studio=drafthousefilms.htm\">Drft.</a></font>, <font size=\"2\"><b>$3,827,261</b></font>, <font size=\"2\">308</font>, <font size=\"2\">$897,034</font>, <font size=\"2\">308</font>, <font size=\"2\"><a href=\"/schedule/?view=bydate&amp;release=theatrical&amp;date=2016-02-12&amp;p=.htm\">2/12</a></font>, <font size=\"2\">4/28</font>, <font size=\"2\">74</font>, <font size=\"2\"><a href=\"/movies/?id=themanwhoknewinfinity.htm\">The Man Who Knew Infinity</a></font>, <font size=\"2\"><a href=\"/studio/chart/?studio=ifc.htm\">IFC</a></font>, <font size=\"2\"><b>$3,717,768</b></font>, <font size=\"2\">288</font>, <font size=\"2\">$80,325</font>, <font size=\"2\">6</font>, <font size=\"2\"><a href=\"/schedule/?view=bydate&amp;release=theatrical&amp;date=2016-04-29&amp;p=.htm\">4/29</a></font>, <font size=\"2\">-</font>, <font size=\"2\">75</font>, <font size=\"2\"><a href=\"/movies/?id=midnightspecial.htm\">Midnight Special</a></font>, <font size=\"2\"><a href=\"/studio/chart/?studio=warnerbros.htm\">WB</a></font>, <font size=\"2\"><b>$3,712,282</b></font>, <font size=\"2\">521</font>, <font size=\"2\">$190,012</font>, <font size=\"2\">5</font>, <font size=\"2\"><a href=\"/schedule/?view=bydate&amp;release=theatrical&amp;date=2016-03-18&amp;p=.htm\">3/18</a></font>, <font size=\"2\">5/26</font>, <font size=\"2\">76</font>, <font size=\"2\"><a href=\"/movies/?id=smoker.htm\">Everybody Wants Some!!</a></font>, <font size=\"2\"><a href=\"/studio/chart/?studio=paramount.htm\">Par.</a></font>, <font size=\"2\"><b>$3,400,278</b></font>, <font size=\"2\">454</font>, <font size=\"2\">$312,355</font>, <font size=\"2\">19</font>, <font size=\"2\"><a href=\"/schedule/?view=bydate&amp;release=theatrical&amp;date=2016-03-30&amp;p=.htm\">3/30</a></font>, <font size=\"2\">5/19</font>, <font size=\"2\">77</font>, <font size=\"2\"><a href=\"/movies/?id=mermaid2016.htm\">The Mermaid (Mei ren yu)</a></font>, <font size=\"2\"><a href=\"/studio/chart/?studio=sony.htm\">Sony</a></font>, <font size=\"2\"><b>$3,232,685</b></font>, <font size=\"2\">106</font>, <font size=\"2\">$985,052</font>, <font size=\"2\">35</font>, <font size=\"2\"><a href=\"/schedule/?view=bydate&amp;release=theatrical&amp;date=2016-02-19&amp;p=.htm\">2/19</a></font>, <font size=\"2\">4/7</font>, <font size=\"2\">78</font>, <font size=\"2\"><a href=\"/movies/?id=greenroom.htm\">Green Room</a></font>, <font size=\"2\"><a href=\"/studio/chart/?studio=a24.htm\">A24</a></font>, <font size=\"2\"><b>$3,217,517</b></font>, <font size=\"2\">777</font>, <font size=\"2\">$87,984</font>, <font size=\"2\">3</font>, <font size=\"2\"><a href=\"/schedule/?view=bydate&amp;release=theatrical&amp;date=2016-04-15&amp;p=.htm\">4/15</a></font>, <font size=\"2\">-</font>, <font size=\"2\">79</font>, <font size=\"2\"><a href=\"/movies/?id=compadres.htm\">Compadres</a></font>, <font size=\"2\"><a href=\"/studio/chart/?studio=pantelion.htm\">PNT</a></font>, <font size=\"2\"><b>$3,127,773</b></font>, <font size=\"2\">368</font>, <font size=\"2\">$1,397,434</font>, <font size=\"2\">368</font>, <font size=\"2\"><a href=\"/schedule/?view=bydate&amp;release=theatrical&amp;date=2016-04-22&amp;p=.htm\">4/22</a></font>, <font size=\"2\">5/26</font>, <font size=\"2\">80</font>, <font size=\"2\"><a href=\"/movies/?id=singstreet.htm\">Sing Street</a></font>, <font size=\"2\"><a href=\"/studio/chart/?studio=weinsteincompany.htm\">Wein.</a></font>, <font size=\"2\"><b>$3,119,256</b></font>, <font size=\"2\">525</font>, <font size=\"2\">$63,573</font>, <font size=\"2\">5</font>, <font size=\"2\"><a href=\"/schedule/?view=bydate&amp;release=theatrical&amp;date=2016-04-15&amp;p=.htm\">4/15</a></font>, <font size=\"2\">-</font>, <font size=\"2\">81</font>, <font size=\"2\"><a href=\"/movies/?id=abeautifulplanet.htm\">A Beautiful Planet</a></font>, <font size=\"2\"><a href=\"/studio/chart/?studio=imax.htm\">Imax</a></font>, <font size=\"2\"><b>$3,071,864</b></font>, <font size=\"2\">155</font>, <font size=\"2\">$223,983</font>, <font size=\"2\">137</font>, <font size=\"2\"><a href=\"/schedule/?view=bydate&amp;release=theatrical&amp;date=2016-04-29&amp;p=.htm\">4/29</a></font>, <font size=\"2\">-</font>, <font size=\"2\">82</font>, <font size=\"2\"><a href=\"/movies/?id=othersideofthedoor.htm\">The Other Side of the Door</a></font>, <font size=\"2\"><a href=\"/studio/chart/?studio=fox.htm\">Fox</a></font>, <font size=\"2\"><b>$3,000,342</b></font>, <font size=\"2\">585</font>, <font size=\"2\">$1,211,210</font>, <font size=\"2\">546</font>, <font size=\"2\"><a href=\"/schedule/?view=bydate&amp;release=theatrical&amp;date=2016-03-04&amp;p=.htm\">3/4</a></font>, <font size=\"2\">4/14</font>, <font size=\"2\">83</font>, <font size=\"2\"><a href=\"/movies/?id=2016oscarnominatedshortfilms.htm\">2016 Oscar Nominated Short Films</a></font>, <font size=\"2\"><a href=\"/studio/chart/?studio=shortsinternational.htm\">Shrts.</a></font>, <font size=\"2\"><b>$2,816,816</b></font>, <font size=\"2\">260</font>, <font size=\"2\">$559,502</font>, <font size=\"2\">123</font>, <font size=\"2\"><a href=\"/schedule/?view=bydate&amp;release=theatrical&amp;date=2016-01-29&amp;p=.htm\">1/29</a></font>, <font size=\"2\">3/24</font>, <font size=\"2\">84</font>, <font size=\"2\"><a href=\"/movies/?id=maggiesplan.htm\">Maggie's Plan</a></font>, <font size=\"2\"><a href=\"/studio/chart/?studio=sonyclassics.htm\">SPC</a></font>, <font size=\"2\"><b>$2,764,934</b></font>, <font size=\"2\">335</font>, <font size=\"2\">$63,308</font>, <font size=\"2\">5</font>, <font size=\"2\"><a href=\"/schedule/?view=bydate&amp;release=theatrical&amp;date=2016-05-20&amp;p=.htm\">5/20</a></font>, <font size=\"2\">-</font>, <font size=\"2\">85</font>, <font size=\"2\"><a href=\"/movies/?id=ipman3.htm\">Ip Man 3</a></font>, <font size=\"2\"><a href=\"/studio/chart/?studio=wellgo.htm\">WGUSA</a></font>, <font size=\"2\"><b>$2,679,437</b></font>, <font size=\"2\">115</font>, <font size=\"2\">$784,839</font>, <font size=\"2\">103</font>, <font size=\"2\"><a href=\"/schedule/?view=bydate&amp;release=theatrical&amp;date=2016-01-22&amp;p=.htm\">1/22</a></font>, <font size=\"2\">2/28</font>, <font size=\"2\">86</font>, <font size=\"2\"><a href=\"/movies/?id=kapoorsons.htm\">Kapoor &amp; Sons - Since 1921</a></font>, <font size=\"2\"><a href=\"/studio/chart/?studio=fip.htm\">FIP</a></font>, <font size=\"2\"><b>$2,607,036</b></font>, <font size=\"2\">153</font>, <font size=\"2\">$986,992</font>, <font size=\"2\">143</font>, <font size=\"2\"><a href=\"/schedule/?view=bydate&amp;release=theatrical&amp;date=2016-03-18&amp;p=.htm\">3/18</a></font>, <font size=\"2\">4/14</font>, <font size=\"2\">87</font>, <font size=\"2\"><a href=\"/movies/?id=milesahead.htm\">Miles Ahead</a></font>, <font size=\"2\"><a href=\"/studio/chart/?studio=sonyclassics.htm\">SPC</a></font>, <font size=\"2\"><b>$2,605,642</b></font>, <font size=\"2\">527</font>, <font size=\"2\">$114,530</font>, <font size=\"2\">4</font>, <font size=\"2\"><a href=\"/schedule/?view=bydate&amp;release=theatrical&amp;date=2016-04-01&amp;p=.htm\">4/1</a></font>, <font size=\"2\">-</font>, <font size=\"2\">88</font>, <font size=\"2\"><a href=\"/movies/?id=swissarmyman.htm\">Swiss Army Man</a></font>, <font size=\"2\"><a href=\"/studio/chart/?studio=a24.htm\">A24</a></font>, <font size=\"2\"><b>$2,439,201</b></font>, <font size=\"2\">636</font>, <font size=\"2\">$105,453</font>, <font size=\"2\">3</font>, <font size=\"2\"><a href=\"/schedule/?view=bydate&amp;release=theatrical&amp;date=2016-06-24&amp;p=.htm\">6/24</a></font>, <font size=\"2\">-</font>, <font size=\"2\">89</font>, <font size=\"2\"><a href=\"/movies/?id=aaa.htm\">A Aa</a></font>, <font size=\"2\"><a href=\"/studio/chart/?studio=bluesky.htm\">BSC</a></font>, <font size=\"2\"><b>$2,313,043</b></font>, <font size=\"2\">115</font>, <font size=\"2\">$1,213,057</font>, <font size=\"2\">115</font>, <font size=\"2\"><a href=\"/schedule/?view=bydate&amp;release=theatrical&amp;date=2016-06-01&amp;p=.htm\">6/1</a></font>, <font size=\"2\">-</font>, <font size=\"2\">90</font>, <font size=\"2\"><a href=\"/movies/?id=abiggersplash.htm\">A Bigger Splash</a></font>, <font size=\"2\"><a href=\"/studio/chart/?studio=foxsearchlight.htm\">FoxS</a></font>, <font size=\"2\"><b>$2,024,099</b></font>, <font size=\"2\">378</font>, <font size=\"2\">$114,419</font>, <font size=\"2\">5</font>, <font size=\"2\"><a href=\"/schedule/?view=bydate&amp;release=theatrical&amp;date=2016-05-04&amp;p=.htm\">5/4</a></font>, <font size=\"2\">7/7</font>, <font size=\"2\">91</font>, <font size=\"2\"><a href=\"/movies/?id=demolition.htm\">Demolition</a></font>, <font size=\"2\"><a href=\"/studio/chart/?studio=foxsearchlight.htm\">FoxS</a></font>, <font size=\"2\"><b>$1,978,592</b></font>, <font size=\"2\">862</font>, <font size=\"2\">$1,100,042</font>, <font size=\"2\">854</font>, <font size=\"2\"><a href=\"/schedule/?view=bydate&amp;release=theatrical&amp;date=2016-04-08&amp;p=.htm\">4/8</a></font>, <font size=\"2\">4/21</font>, <font size=\"2\">92</font>, <font size=\"2\"><a href=\"/movies/?id=busconovioparamimujer.htm\">Busco Novio Para Mi Mujer</a></font>, <font size=\"2\"><a href=\"/studio/chart/?studio=lionsgate.htm\">LGF</a></font>, <font size=\"2\"><b>$1,741,889</b></font>, <font size=\"2\">357</font>, <font size=\"2\">$902,457</font>, <font size=\"2\">357</font>, <font size=\"2\"><a href=\"/schedule/?view=bydate&amp;release=theatrical&amp;date=2016-02-19&amp;p=.htm\">2/19</a></font>, <font size=\"2\">3/17</font>, <font size=\"2\">93</font>, <font size=\"2\"><a href=\"/movies/?id=fan16.htm\">Fan</a></font>, <font size=\"2\"><a href=\"/studio/chart/?studio=yashraj.htm\">Yash</a></font>, <font size=\"2\"><b>$1,689,879</b></font>, <font size=\"2\">307</font>, <font size=\"2\">$1,382,871</font>, <font size=\"2\">307</font>, <font size=\"2\"><a href=\"/schedule/?view=bydate&amp;release=theatrical&amp;date=2016-04-15&amp;p=.htm\">4/15</a></font>, <font size=\"2\">4/21</font>, <font size=\"2\">94</font>, <font size=\"2\"><a href=\"/movies/?id=isawthelight.htm\">I Saw the Light</a></font>, <font size=\"2\"><a href=\"/studio/chart/?studio=sonyclassics.htm\">SPC</a></font>, <font size=\"2\"><b>$1,646,788</b></font>, <font size=\"2\">741</font>, <font size=\"2\">$45,471</font>, <font size=\"2\">5</font>, <font size=\"2\"><a href=\"/schedule/?view=bydate&amp;release=theatrical&amp;date=2016-03-25&amp;p=.htm\">3/25</a></font>, <font size=\"2\">6/9</font>, <font size=\"2\">95</font>, <font size=\"2\"><a href=\"/movies/?id=neerja.htm\">Neerja</a></font>, <font size=\"2\"><a href=\"/studio/chart/?studio=fip.htm\">FIP</a></font>, <font size=\"2\"><b>$1,585,687</b></font>, <font size=\"2\">121</font>, <font size=\"2\">$626,528</font>, <font size=\"2\">73</font>, <font size=\"2\"><a href=\"/schedule/?view=bydate&amp;release=theatrical&amp;date=2016-02-19&amp;p=.htm\">2/19</a></font>, <font size=\"2\">3/10</font>, <font size=\"2\">96</font>, <font size=\"2\"><a href=\"/movies/?id=janegotagun.htm\">Jane Got a Gun</a></font>, <font size=\"2\"><a href=\"/studio/chart/?studio=weinsteincompany.htm\">Wein.</a></font>, <font size=\"2\"><b>$1,513,793</b></font>, <font size=\"2\">1,210</font>, <font size=\"2\">$835,572</font>, <font size=\"2\">1,210</font>, <font size=\"2\"><a href=\"/schedule/?view=bydate&amp;release=theatrical&amp;date=2016-01-29&amp;p=.htm\">1/29</a></font>, <font size=\"2\">2/25</font>, <font size=\"2\">97</font>, <font size=\"2\"><a href=\"/movies/?id=ourkindoftraitor.htm\">Our Kind of Traitor</a></font>, <font size=\"2\"><a href=\"/studio/chart/?studio=roadsideattractions.htm\">RAtt.</a></font>, <font size=\"2\"><b>$1,513,136</b></font>, <font size=\"2\">399</font>, <font size=\"2\">$984,698</font>, <font size=\"2\">373</font>, <font size=\"2\"><a href=\"/schedule/?view=bydate&amp;release=theatrical&amp;date=2016-07-01&amp;p=.htm\">7/1</a></font>, <font size=\"2\">-</font>, <font size=\"2\">98</font>, <font size=\"2\"><a href=\"/movies/?id=weiner.htm\">Weiner</a></font>, <font size=\"2\"><a href=\"/studio/chart/?studio=ifc.htm\">IFC</a></font>, <font size=\"2\"><b>$1,430,336</b></font>, <font size=\"2\">88</font>, <font size=\"2\">$84,173</font>, <font size=\"2\">5</font>, <font size=\"2\"><a href=\"/schedule/?view=bydate&amp;release=theatrical&amp;date=2016-05-20&amp;p=.htm\">5/20</a></font>, <font size=\"2\">-</font>, <font size=\"2\">99</font>, <font size=\"2\"><a href=\"/movies/?id=thelittleprince.htm\">The Little Prince</a></font>, <font size=\"2\"><a href=\"/studio/chart/?studio=entertainmentone.htm\">EOne</a></font>, <font size=\"2\"><b>$1,339,152</b></font>, <font size=\"2\">163</font>, <font size=\"2\">$116,927</font>, <font size=\"2\">52</font>, <font size=\"2\"><a href=\"/schedule/?view=bydate&amp;release=theatrical&amp;date=2016-02-12&amp;p=.htm\">2/12</a></font>, <font size=\"2\">-</font>, <font size=\"2\">100</font>, <font size=\"2\"><a href=\"/movies/?id=embraceoftheserpent.htm\">Embrace of the Serpent</a></font>, <font size=\"2\"><a href=\"/studio/chart/?studio=oscilloscopepictures.htm\">Osci.</a></font>, <font size=\"2\"><b>$1,329,249</b></font>, <font size=\"2\">93</font>, <font size=\"2\">$50,955</font>, <font size=\"2\">3</font>, <font size=\"2\"><a href=\"/schedule/?view=bydate&amp;release=theatrical&amp;date=2016-02-17&amp;p=.htm\">2/17</a></font>, <font size=\"2\">-</font>, <font size=\"2\"><b>Summary of 353 Movies on Chart:</b></font>, <font size=\"2\"><b>Totals:</b></font>, <font size=\"2\">$4,980,620,817</font>, <font size=\"2\">-</font>, <font size=\"2\">-</font>, <font size=\"2\">-</font>, <font size=\"2\">-</font>, <font size=\"2\">-</font>, <font size=\"2\"><b>Averages:</b></font>, <font size=\"2\">$14,109,407</font>, <font size=\"2\">-</font>, <font size=\"2\">-</font>, <font size=\"2\">-</font>, <font size=\"2\">-</font>, <font size=\"2\">-</font>, <font face=\"Verdana\" size=\"2\">Note: <b>RELEASE DATE</b> shows all movies that opened in a given time period and their total grosses. <b>WIDE RELEASES</b> shows only movies released in 600 or more theaters and their total grosses, grouped by wide release date. <b>LIMITED RELEASES</b> shows only movies released in less than 600 theaters and their total grosses, grouped by release date. <b>CALENDAR GROSSES</b> shows all movies playing during the indicated time period, both new and holdover, and their grosses (or estimated grosses) during that time period. Movies released outside the indicated time period are shown in italics. <b><a href=\"/about/boxoffice.htm\">Click here for a full explanation of the various box office sections</a></b></font>, <font face=\"Verdana\" size=\"2\"><b>back to<br>Yearly Index Page</br></b></font>]\n"
     ]
    }
   ],
   "source": [
    "soup = BeautifulSoup(page_text[1], \"html.parser\")\n",
    "rows = soup.find_all(\"font\", attrs={'size':'2'})\n",
    "print rows        "
   ]
  },
  {
   "cell_type": "code",
   "execution_count": 23,
   "metadata": {
    "collapsed": false
   },
   "outputs": [
    {
     "name": "stdout",
     "output_type": "stream",
     "text": [
      "<font size=\"2\"><a href=\"/movies/?id=marvel2016.htm\">Captain America: Civil War</a></font>\n"
     ]
    }
   ],
   "source": [
    "print rows[11]"
   ]
  },
  {
   "cell_type": "code",
   "execution_count": 22,
   "metadata": {
    "collapsed": false
   },
   "outputs": [
    {
     "name": "stdout",
     "output_type": "stream",
     "text": [
      "<a href=\"/movies/?id=marvel2016.htm\">Captain America: Civil War</a>\n"
     ]
    }
   ],
   "source": [
    "print rows[11].find(\"a\")"
   ]
  },
  {
   "cell_type": "code",
   "execution_count": null,
   "metadata": {
    "collapsed": true
   },
   "outputs": [],
   "source": [
    "print rows[11].find(\"a\").get_text()"
   ]
  }
 ],
 "metadata": {
  "kernelspec": {
   "display_name": "Python 2",
   "language": "python",
   "name": "python2"
  },
  "language_info": {
   "codemirror_mode": {
    "name": "ipython",
    "version": 2
   },
   "file_extension": ".py",
   "mimetype": "text/x-python",
   "name": "python",
   "nbconvert_exporter": "python",
   "pygments_lexer": "ipython2",
   "version": "2.7.11"
  }
 },
 "nbformat": 4,
 "nbformat_minor": 0
}
